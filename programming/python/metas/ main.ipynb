{
 "cells": [
  {
   "cell_type": "code",
   "execution_count": 1,
   "id": "9eec7013-3994-47ec-a383-f64c53376e63",
   "metadata": {},
   "outputs": [],
   "source": [
    "# 本文件介绍python语言本身及其相应内置语法与方法"
   ]
  },
  {
   "cell_type": "code",
   "execution_count": 2,
   "id": "d55c3651-2bc1-45f3-a15c-f2f40e317e5f",
   "metadata": {},
   "outputs": [],
   "source": [
    "# 1. iterable(可迭代对象)和iterator(迭代器)\n",
    "\n",
    "# for loop中in后对象必须是iterable\n",
    "# iterator是表示数据流的对象, 可通过__next__()方法不断获取下一个数据\n",
    "# iterable是无状态的container, 必须有能力产生iterator\n",
    "# iterator一定是有状态的, 但不必保存iterable\n",
    "# 实现上, 当且仅当一个类的实例实现了__iter__()方法, 或是实现Sequence的基础上实现了__getitem__()方法, 才能成为一个iterable\n",
    "# 这是为了保证iterable可以在__iter__()方法的作用下返回一个相应的iterator\n",
    "# iterator=iter(iterable)\n",
    "# 而只有在实现了__next__()方法和__iter__()方法后, 才能成为一个iterator, __next__()方法返回iterable中的下一个元素\n",
    "# 下一个元素=next(iterator)\n",
    "# 如果iterator到头了, 需要raise StopIteration这个exception, 这在iterator的__next__()方法中实现\n",
    "# 而iterator实现__iter__()方法是为了让iterator也是一个iterable"
   ]
  },
  {
   "cell_type": "code",
   "execution_count": 4,
   "id": "1f8b9356-445d-497c-ac2a-ff9d943edecb",
   "metadata": {},
   "outputs": [
    {
     "name": "stdout",
     "output_type": "stream",
     "text": [
      "Node 0: node1\n",
      "Node 1: node2\n",
      "Node 2: node3\n"
     ]
    }
   ],
   "source": [
    "# 例: 实现链表(1)\n",
    "\n",
    "class NodeIter:\n",
    "    def __init__(self, node):\n",
    "        self.curr_node = node\n",
    "\n",
    "    def __next__(self):\n",
    "        if self.curr_node is None:\n",
    "            raise StopIteration\n",
    "        node, self.curr_node = self.curr_node, self.curr_node.next\n",
    "        return node\n",
    "\n",
    "class Node:\n",
    "    def __init__(self, name):\n",
    "        self.name = name\n",
    "        self.next = None\n",
    "\n",
    "    def __iter__(self):\n",
    "        return NodeIter(self)  # 这里的self是一个Node\n",
    "\n",
    "node_1 = Node(\"node1\")\n",
    "node_2 = Node(\"node2\")\n",
    "node_3 = Node(\"node3\")\n",
    "node_1.next = node_2\n",
    "node_2.next = node_3\n",
    "\n",
    "\n",
    "# for-in loop 其实是先管iterable要了一个iterator, 然后不断地next(iterator)\n",
    "for i, node in enumerate(node_1):\n",
    "    print(f\"Node {i}: {node.name}\")"
   ]
  },
  {
   "cell_type": "code",
   "execution_count": null,
   "id": "df2b00c3-7652-495e-8c66-6fd65a11fe67",
   "metadata": {},
   "outputs": [],
   "source": [
    "# iterator需要实现__iter__()方法是为了使得每一个子iterable都可以被调用"
   ]
  },
  {
   "cell_type": "code",
   "execution_count": 6,
   "id": "fce744ce-c8f1-4e96-8470-712243b2de90",
   "metadata": {},
   "outputs": [
    {
     "ename": "TypeError",
     "evalue": "'NodeIter' object is not iterable",
     "output_type": "error",
     "traceback": [
      "\u001b[31m---------------------------------------------------------------------------\u001b[39m",
      "\u001b[31mTypeError\u001b[39m                                 Traceback (most recent call last)",
      "\u001b[36mCell\u001b[39m\u001b[36m \u001b[39m\u001b[32mIn[6]\u001b[39m\u001b[32m, line 7\u001b[39m\n\u001b[32m      4\u001b[39m it = \u001b[38;5;28miter\u001b[39m(node_1)\n\u001b[32m      5\u001b[39m first = \u001b[38;5;28mnext\u001b[39m(it)\n\u001b[32m----> \u001b[39m\u001b[32m7\u001b[39m \u001b[38;5;28;43;01mfor\u001b[39;49;00m\u001b[43m \u001b[49m\u001b[43mnode\u001b[49m\u001b[43m \u001b[49m\u001b[38;5;129;43;01min\u001b[39;49;00m\u001b[43m \u001b[49m\u001b[43mit\u001b[49m\u001b[43m:\u001b[49m\n\u001b[32m      8\u001b[39m \u001b[43m    \u001b[49m\u001b[38;5;28;43mprint\u001b[39;49m\u001b[43m(\u001b[49m\u001b[43mnode\u001b[49m\u001b[43m.\u001b[49m\u001b[43mname\u001b[49m\u001b[43m)\u001b[49m\n",
      "\u001b[31mTypeError\u001b[39m: 'NodeIter' object is not iterable"
     ]
    }
   ],
   "source": [
    "# 例: 实现链表(2) 解释为什么iterator需要是一个iterable\n",
    "\n",
    "# 现在想要从第二个node开始print\n",
    "it = iter(node_1)\n",
    "first = next(it)\n",
    "\n",
    "# 因为现在iterator不是iterable,  所以无法for-in loop\n",
    "for node in it:\n",
    "    print(node.name)"
   ]
  },
  {
   "cell_type": "code",
   "execution_count": 10,
   "id": "58b81fc5-b6b8-40a3-afdf-b33f745fb845",
   "metadata": {},
   "outputs": [
    {
     "name": "stdout",
     "output_type": "stream",
     "text": [
      "node1\n",
      "node2\n",
      "node3\n"
     ]
    }
   ],
   "source": [
    "# 例: 实现链表(3)  iterator成为iterable\n",
    "\n",
    "class NodeIter(NodeIter):\n",
    "\n",
    "    # 几乎所有情况下, iterator实现__iter__()方法只需要返回自己即可\n",
    "    # 也就是iterator = iter(iterator)\n",
    "    def __iter__(self):\n",
    "        return self\n",
    "\n",
    "it = iter(node_1)\n",
    "for node in it:\n",
    "    print(node.name)"
   ]
  },
  {
   "cell_type": "code",
   "execution_count": 11,
   "id": "bb33892d-47c8-400b-9996-35bfacf52262",
   "metadata": {},
   "outputs": [],
   "source": [
    "# 2. generator(生成器)\n",
    "# generator是一种特殊的iterator, 既可以用在for-in loop也可以用在next(generator)上等\n",
    "\n",
    "# generator函数和generator对象(该对象就是一个iterator)\n",
    "# 例如def gen的gen是一个generator函数, 而gen(5)的这个gen是一个generator对象\n",
    "# 当python发现一个函数内包含yield语句时, python将其看待为一个generator函数\n",
    "# 调用generator函数会返回一个generator对象保存在gen中\n",
    "# 当对generator对象调用next()方法时, python才真正开始运行generator函数\n",
    "# 从使用者的角度来看, generator和iterator的行为没有太大区别\n",
    "# 而generator实际运行时, 会把自身状态保存在一个generator对象中"
   ]
  },
  {
   "cell_type": "code",
   "execution_count": 12,
   "id": "7d780d98-d3d8-4223-8e2c-cf94de1d5a11",
   "metadata": {},
   "outputs": [
    {
     "name": "stdout",
     "output_type": "stream",
     "text": [
      "4\n",
      "3\n",
      "2\n",
      "1\n"
     ]
    }
   ],
   "source": [
    "# 例: \n",
    "\n",
    "def gen(num):\n",
    "    while num > 0:\n",
    "        yield num  # 只有yield中的值会被保存\n",
    "        num -= 1\n",
    "    # 相当于raise StopIteration \n",
    "    # 不管return是否有返回值, generator函数都不会返回return的返回值\n",
    "    # 如果要获取return的返回值, 就要catch其StopIteration\n",
    "    return 100\n",
    "\n",
    "g = gen(5)\n",
    "first = next(g)\n",
    "for i in g:\n",
    "    print(i)"
   ]
  },
  {
   "cell_type": "code",
   "execution_count": 1,
   "id": "f1e81036-31fa-4fbc-8782-290e037c78ac",
   "metadata": {},
   "outputs": [
    {
     "name": "stdout",
     "output_type": "stream",
     "text": [
      "Node 0: node1\n",
      "Node 1: node2\n",
      "Node 2: node3\n"
     ]
    }
   ],
   "source": [
    "# 例: 实现链表(4) generator实现\n",
    "\n",
    "class Node:\n",
    "    def __init__(self, name):\n",
    "        self.name = name\n",
    "        self.next = None\n",
    "\n",
    "    def __iter__(self):\n",
    "        node = self\n",
    "        while node is not None:\n",
    "            yield node  # generator实现, 避免了额外的local variable\n",
    "            node = node.next\n",
    "\n",
    "node_1 = Node(\"node1\")\n",
    "node_2 = Node(\"node2\")\n",
    "node_3 = Node(\"node3\")\n",
    "node_1.next = node_2\n",
    "node_2.next = node_3\n",
    "\n",
    "for i, node in enumerate(node_1):\n",
    "    print(f\"Node {i}: {node.name}\")\n",
    "\n",
    "# generator优势: 有时和传统的迭代器相比代码简洁不少"
   ]
  },
  {
   "cell_type": "code",
   "execution_count": 2,
   "id": "e10a1fd6-1129-4116-bf86-9d9518f6f3b4",
   "metadata": {},
   "outputs": [],
   "source": [
    "# generator的send用法"
   ]
  },
  {
   "cell_type": "code",
   "execution_count": 3,
   "id": "b36bdbb0-d8e9-468b-abba-d7d9b6185427",
   "metadata": {},
   "outputs": [
    {
     "name": "stdout",
     "output_type": "stream",
     "text": [
      "first: 5\n",
      "send: 9\n",
      "8\n",
      "7\n",
      "6\n",
      "5\n",
      "4\n",
      "3\n",
      "2\n",
      "1\n"
     ]
    }
   ],
   "source": [
    "# 例:\n",
    "\n",
    "def gen(num):\n",
    "    while num > 0:\n",
    "        tmp = yield num  # 先把num返回出去, 再等待send发送回来的值赋给temp\n",
    "        if tmp is not None:\n",
    "            num = tmp\n",
    "        num -= 1\n",
    "\n",
    "g = gen(5)\n",
    "\n",
    "first = next(g)\n",
    "print(f\"first: {first}\")\n",
    "print(f\"send: {g.send(10)}\")  # 将yield num的值认为是10, 此时tmp=10\n",
    "for i in g:  # 对于generator而言, next(g)相当于g.send(None)\n",
    "    print(i)"
   ]
  },
  {
   "cell_type": "code",
   "execution_count": null,
   "id": "488a7ac3-9889-4a68-b317-d85c519ea27d",
   "metadata": {},
   "outputs": [],
   "source": []
  }
 ],
 "metadata": {
  "kernelspec": {
   "display_name": "Python 3 (ipykernel)",
   "language": "python",
   "name": "python3"
  },
  "language_info": {
   "codemirror_mode": {
    "name": "ipython",
    "version": 3
   },
   "file_extension": ".py",
   "mimetype": "text/x-python",
   "name": "python",
   "nbconvert_exporter": "python",
   "pygments_lexer": "ipython3",
   "version": "3.13.2"
  }
 },
 "nbformat": 4,
 "nbformat_minor": 5
}
