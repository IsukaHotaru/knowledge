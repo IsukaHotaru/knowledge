{
 "cells": [
  {
   "cell_type": "code",
   "execution_count": 1,
   "id": "2d253d0a-aa82-4ce9-8bc9-4d5f04e3b4e3",
   "metadata": {},
   "outputs": [],
   "source": [
    "# 本文档记录python中一些实用小技巧"
   ]
  },
  {
   "cell_type": "code",
   "execution_count": 3,
   "id": "0aa8b207-f060-47f6-bd8c-17d351cf3eb6",
   "metadata": {},
   "outputs": [
    {
     "name": "stdout",
     "output_type": "stream",
     "text": [
      "This_Is_A__Random__String\n"
     ]
    }
   ],
   "source": [
    "# 1. 快速替换字符串中的特殊符号为下划线\n",
    "\n",
    "import re  # re是python中处理正则表达式的库\n",
    "import string\n",
    "\n",
    "raw_string = r\"This/Is@A/$Random&'String\"\n",
    "\n",
    "# 主要用到的方法\n",
    "# re.sub: 将指定字符串中满足给定正则表达式的子串全部替换为给定新字符串\n",
    "# parameter1: 正则表达式\n",
    "# parameter2: 新字符串\n",
    "# parameter3: 指定原字符串\n",
    "# string.punctuation: 表示所有特殊符号\n",
    "processed_string = re.sub(f'[{string.punctuation}]', \"_\", raw_string)\n",
    "\n",
    "print(processed_string)"
   ]
  },
  {
   "cell_type": "code",
   "execution_count": null,
   "id": "03d5ca32-9bfa-40eb-9e07-b3e592fd3592",
   "metadata": {},
   "outputs": [],
   "source": [
    "# 2. pytorch设置device\n",
    "\n",
    "import torch\n",
    "\n",
    "# 通过if...else来判断是否存在cuda, 否则使用cpu\n",
    "device = \"cuda\" if torch.cuda.is_available() else \"cpu\""
   ]
  },
  {
   "cell_type": "code",
   "execution_count": 1,
   "id": "8d301bbd-1617-4cdf-ad9a-646582ac1b81",
   "metadata": {},
   "outputs": [],
   "source": [
    "# 3. 使用deque实现读取文件最后若干行\n",
    "\n",
    "from collections import deque\n",
    "\n",
    "def tail(filename: str, n: int = 10):\n",
    "    \"\"\"Return the last n lines of a file\"\"\"\n",
    "    with open(filename) as f:\n",
    "        return deque(f, n)"
   ]
  },
  {
   "cell_type": "code",
   "execution_count": 1,
   "id": "b0cc2d97-d2d7-4de1-80a3-249a08ffa4f2",
   "metadata": {},
   "outputs": [],
   "source": [
    "# 4. 使用rotate实现删除deque第n个元素\n",
    "\n",
    "from collections import deque\n",
    "from typing import Deque\n",
    "\n",
    "def delete_nth(d: Deque, n: int):\n",
    "    d.rotate(-n)  # 把左侧n个元素弹出再依次追加到右侧\n",
    "    d.popleft()  # 弹出左侧首个元素\n",
    "    d.rotate(n)  # 把右侧n个元素弹出再依次增加到左侧"
   ]
  },
  {
   "cell_type": "code",
   "execution_count": null,
   "id": "ab837a88-634d-443d-ab73-04333910c08e",
   "metadata": {},
   "outputs": [
    {
     "name": "stdout",
     "output_type": "stream",
     "text": [
      "错误调用第一次: [1]\n",
      "错误调用第二次: [1, 2]\n",
      "正确调用第一次: [1]\n",
      "正确调用第二次: [2]\n"
     ]
    }
   ],
   "source": [
    "# 5. 不应当在函数签名中对于列表参数的默认值指定某列表\n",
    "# 因为列表是引用, 多次调用函数使用列表默认值会导致同一个列表被调用,\n",
    "# 从而产生非预期行为\n",
    "\n",
    "# 错误:\n",
    "def add_number_wrong(n: int, l: list[int] = []):\n",
    "    l.append(n)\n",
    "    return l\n",
    "\n",
    "print(f\"错误调用第一次: {add_number_wrong(1)}\")\n",
    "print(f\"错误调用第二次: {add_number_wrong(2)}\")\n",
    "\n",
    "# 正确:\n",
    "def add_number_true(n: int, l :list[int] | None = None):\n",
    "    if l:\n",
    "        l.append(n)\n",
    "        return l\n",
    "    else:\n",
    "        return [n]\n",
    "\n",
    "print(f\"正确调用第一次: {add_number_true(1)}\")\n",
    "print(f\"正确调用第二次: {add_number_true(2)}\")"
   ]
  },
  {
   "cell_type": "code",
   "execution_count": 8,
   "id": "4c9d57fb-13c8-4e4b-9f49-0b70ccb0d5f0",
   "metadata": {},
   "outputs": [],
   "source": [
    "# 6. 多重条件判断, 为避免嵌套if-else语句, 可以使用卫语句\n",
    "\n",
    "# 不推荐写法(嵌套语句)\n",
    "def checkAllWrong(has_money: bool, has_time: bool, has_house: bool) -> bool:\n",
    "    if has_money:\n",
    "        if has_time:\n",
    "            if has_house:\n",
    "                print(\"You have everything!\")\n",
    "                return True\n",
    "            else:\n",
    "                print(\"No house...\")\n",
    "                return False\n",
    "        else:\n",
    "            print(\"No time...\")\n",
    "            return False\n",
    "    else:\n",
    "        print(\"No money\")\n",
    "        return False\n",
    "\n",
    "# 推荐写法(卫语句)\n",
    "def checkAllTrue(has_money: bool, has_time: bool, has_house: bool) -> bool:\n",
    "    if not has_money:\n",
    "        print(\"No money...\")\n",
    "        return False\n",
    "\n",
    "    if not has_time:\n",
    "        print(\"No time...\")\n",
    "        return False\n",
    "\n",
    "    if not has_house:\n",
    "        print(\"No house...\")\n",
    "        return False\n",
    "\n",
    "    print(\"You have everything!\")\n",
    "    return True"
   ]
  },
  {
   "cell_type": "code",
   "execution_count": 1,
   "id": "cb0caf61-d15c-4b64-b6d1-bbe2216c4ead",
   "metadata": {},
   "outputs": [
    {
     "name": "stdout",
     "output_type": "stream",
     "text": [
      "Person(name='Bob', age=29, friends=['Luigi', 'James'])\n"
     ]
    }
   ],
   "source": [
    "# 7. 数据类(dataclass)\n",
    "from dataclasses import dataclass\n",
    "\n",
    "# 数据类可以自动定义__init__函数\n",
    "@dataclass\n",
    "class Person:\n",
    "    name: str\n",
    "    age: int\n",
    "    friends: list[str]\n",
    "\n",
    "bob: Person = Person(\"Bob\", 29, [\"Luigi\", \"James\"])\n",
    "# 可以打印数据类或实例以显示相关信息\n",
    "print(bob)"
   ]
  },
  {
   "cell_type": "code",
   "execution_count": 4,
   "id": "947334ce-ec97-4fac-88e1-ef14fd09e7d3",
   "metadata": {},
   "outputs": [
    {
     "name": "stdout",
     "output_type": "stream",
     "text": [
      "False\n",
      "True\n"
     ]
    }
   ],
   "source": [
    "# 可以自动排序\n",
    "@dataclass(order=True)\n",
    "class Person:\n",
    "    name: str\n",
    "    age: int\n",
    "    friends: list[str]\n",
    "\n",
    "bob: Person = Person(\"Bob\", 29, [\"Luigi\", \"James\"])\n",
    "james: Person = Person(\"James\", 25, [\"Bob\", \"Luigi\"])\n",
    "mario: Person = Person(\"Mario\", 38, [])\n",
    "\n",
    "print(bob == james)\n",
    "print(bob < james)"
   ]
  },
  {
   "cell_type": "code",
   "execution_count": 5,
   "id": "7ed64cc2-5f9a-47b6-ac5a-ae65e77bab5f",
   "metadata": {},
   "outputs": [
    {
     "ename": "FrozenInstanceError",
     "evalue": "cannot assign to field 'age'",
     "output_type": "error",
     "traceback": [
      "\u001b[31m---------------------------------------------------------------------------\u001b[39m",
      "\u001b[31mFrozenInstanceError\u001b[39m                       Traceback (most recent call last)",
      "\u001b[36mCell\u001b[39m\u001b[36m \u001b[39m\u001b[32mIn[5]\u001b[39m\u001b[32m, line 9\u001b[39m\n\u001b[32m      6\u001b[39m     friends: \u001b[38;5;28mlist\u001b[39m[\u001b[38;5;28mstr\u001b[39m]\n\u001b[32m      8\u001b[39m bob: Person = Person(\u001b[33m\"\u001b[39m\u001b[33mBob\u001b[39m\u001b[33m\"\u001b[39m, \u001b[32m29\u001b[39m, [\u001b[33m\"\u001b[39m\u001b[33mLuigi\u001b[39m\u001b[33m\"\u001b[39m, \u001b[33m\"\u001b[39m\u001b[33mJames\u001b[39m\u001b[33m\"\u001b[39m])\n\u001b[32m----> \u001b[39m\u001b[32m9\u001b[39m \u001b[43mbob\u001b[49m\u001b[43m.\u001b[49m\u001b[43mage\u001b[49m = \u001b[32m30\u001b[39m\n",
      "\u001b[36mFile \u001b[39m\u001b[32m<string>:17\u001b[39m, in \u001b[36m__setattr__\u001b[39m\u001b[34m(self, name, value)\u001b[39m\n",
      "\u001b[31mFrozenInstanceError\u001b[39m: cannot assign to field 'age'"
     ]
    }
   ],
   "source": [
    "# 支持设置数据类不可变\n",
    "@dataclass(frozen=True)\n",
    "class Person:\n",
    "    name: str\n",
    "    age: int\n",
    "    friends: list[str]\n",
    "\n",
    "bob: Person = Person(\"Bob\", 29, [\"Luigi\", \"James\"])\n",
    "bob.age = 304  # 拒绝修改成员变量!"
   ]
  },
  {
   "cell_type": "code",
   "execution_count": 9,
   "id": "d931c20b-466c-41ce-a7f0-b52d619be92a",
   "metadata": {},
   "outputs": [
    {
     "name": "stdout",
     "output_type": "stream",
     "text": [
      "Rectangle(width=10, height=20)\n",
      "Area:200\n",
      "Perimeter:60\n",
      "Rectangle(width=50, height=20)\n",
      "Area:1000\n",
      "Perimeter:140\n"
     ]
    }
   ],
   "source": [
    "# 将计算属性加入数据类实现协作\n",
    "@dataclass\n",
    "class Rectangle:\n",
    "    width: float\n",
    "    height: float\n",
    "\n",
    "    @property\n",
    "    def area(self) -> float:\n",
    "        return self.width * self.height\n",
    "\n",
    "    @property\n",
    "    def perimeter(self) -> float:\n",
    "        return 2 * (self.width + self.height)\n",
    "\n",
    "    def describe(self) -> None:\n",
    "        print(f\"{self}\")\n",
    "        print(f\"Area:{self.area}\")\n",
    "        print(f\"Perimeter:{self.perimeter}\")\n",
    "\n",
    "rect = Rectangle(width=10, height=20)\n",
    "rect.describe()\n",
    "rect.width = 50\n",
    "rect.describe()"
   ]
  }
 ],
 "metadata": {
  "kernelspec": {
   "display_name": "Python 3 (ipykernel)",
   "language": "python",
   "name": "python3"
  },
  "language_info": {
   "codemirror_mode": {
    "name": "ipython",
    "version": 3
   },
   "file_extension": ".py",
   "mimetype": "text/x-python",
   "name": "python",
   "nbconvert_exporter": "python",
   "pygments_lexer": "ipython3",
   "version": "3.13.2"
  }
 },
 "nbformat": 4,
 "nbformat_minor": 5
}
