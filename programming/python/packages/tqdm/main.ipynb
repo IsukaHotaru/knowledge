{
 "cells": [
  {
   "cell_type": "code",
   "execution_count": 1,
   "id": "0bfd4cd7",
   "metadata": {},
   "outputs": [],
   "source": [
    "# 本文档介绍tqdm库的用法\n",
    "# tqdm 是一个轻量级生成进度条的库\n",
    "# 主要功能:\n",
    "# 1. 进度可视化, 实时更新\n",
    "# 2. 多环境兼容, 支持Jupyter Notebook等\n",
    "# 3. 性能监控, 智能预测ETA"
   ]
  },
  {
   "cell_type": "code",
   "execution_count": null,
   "id": "1a594d88",
   "metadata": {},
   "outputs": [],
   "source": [
    "# class tqdm: 将iterable进行包装, 且包装后的结果与原来的iterable的使用\n",
    "# 方法上并没有什么区别\n",
    "# 相当于是构建了一个长度相同的iterable和一个长度为total的progressbar\n",
    "# 且这个iterable具有与原来的iterable相同的属性\n",
    "\n",
    "# 参数:\n",
    "# 1. iterable: iterable, optional\n",
    "# 作用: 要装饰的可迭代对象, 若为空, 则需手动调用update()控制进度\n",
    "# 默认值: None\n",
    "# 2. desc: str, optional\n",
    "# 作用: 进度条前缀文本, 用于描述任务内容\n",
    "# 默认值: None\n",
    "# 3. total: int or float, optional\n",
    "# 作用: 预期总迭代次数. 若未指定, 尝试通过len(iterable)获取,\n",
    "# 若为float(\"inf\"), 则仅显示基本统计信息 (无ETA无进度条)\n",
    "# 默认值: len(iterable)\n",
    "# 4. leave: bool, optional\n",
    "# 作用: 控制进度条完成后是否保留痕迹, 即完成后是否不消失\n",
    "# 默认值: True\n",
    "# 5. file: io.TextIOWrapper or io.StringIO, optional\n",
    "# 作用: 指定进度条输出位置 (如文件, 日志等)\n",
    "# 默认值: sys.stderr (标准错误输出)\n",
    "# 6. ncols: int, optional\n",
    "# 作用: 设置进度条总宽度 (字符数)\n",
    "# 默认值: 自动检测终端宽度, 无限制时默认10字符宽度\n",
    "# 7. mininterval: float, optional\n",
    "# 作用: 最小更新间隔时间(秒), 避免频繁刷新\n",
    "# 默认值: 0.1秒\n",
    "# 8. maxinterval: float, optional\n",
    "# 作用: 最大更新间隔时间(秒), 防止长时间无响应\n",
    "# 默认值: 10秒\n",
    "# 9. ascii: bool or str, optional\n",
    "# 作用: 控制进度条样式 (ASCII 或 Unicode)\n",
    "# 默认值: false(使用Unicode字符)\n",
    "# 10. disable: bool, optional\n",
    "# 作用: 全局禁用进度条显示\n",
    "# 默认值: False (不禁用)\n",
    "# 11. unit: str, optional\n",
    "# 作用: 定义每次迭代的单位\n",
    "# 默认值: iteration, 即每个循环\n",
    "# 12. unit_scale: bool or int/float, optional\n",
    "# 作用: 自动缩放单位, 如将1000显示为1k\n",
    "# 若为True, 则按国际单位制缩放, 若为数字, 则手动指定缩放因子\n",
    "# 默认值: False\n",
    "# 13. dynamic_ncols: bool, optional\n",
    "# 作用: 禁用动态调整进度条宽度, 使用固定ncols或环境宽度\n",
    "# 默认值: False\n",
    "# 14. smoothing: float, optional\n",
    "# 作用: 速度估计的平滑因子, 0表示完全平均, 1表示瞬时速度\n",
    "# 默认值: 0.3\n",
    "# 15. bar_format: str, optional\n",
    "# 作用: 进度条统计信息格式\n",
    "# 默认: '{l_bar}{bar}{r_bar}' (描述, 进度条, 统计信息)\n",
    "# 16. initial: int/float, optional\n",
    "# 作用: 规定初始计数值 (用于恢复进度条)\n",
    "# 默认值: 0\n",
    "# 17. position: int, optioanl\n",
    "# 作用: 规定进度条行号\n",
    "# 默认值: None (自动选择行号, 避免多进度条重叠)\n",
    "# 18. postfix: dict or *, optional\n",
    "# 作用: 在进度条末尾显示额外统计信息\n",
    "# 默认值: None (不显示后置统计信息)\n",
    "# 19. unit_divisor: float, optional\n",
    "# 作用: 单位缩放的分母\n",
    "# 默认值: 1000\n",
    "# write_bytes: bool, optional\n",
    "# 作用: 是否以字节模式写入 (如处理二进制文件)\n",
    "# 默认值: False\n",
    "# 20. lock_args: tuple, optional (内部参数)\n",
    "# 21. nrows: int, optional\n",
    "# 作用: 屏幕高度限制, 隐藏超出部分的嵌套进度条\n",
    "# 默认值: None\n",
    "# 22. colour: str, optional\n",
    "# 作用: 进度条颜色 (支持艳颜色名称或十六进制值)\n",
    "# 默认值: None (使用终端默认颜色)\n",
    "# 23. delay: float, optional\n",
    "# 作用: 延迟显示时间(秒), 避免短暂任务闪烁\n",
    "# 默认值: 0 (立即显示)\n",
    "# 24. gui: bool, optional (内部参数)"
   ]
  },
  {
   "cell_type": "code",
   "execution_count": 10,
   "id": "58563e2e",
   "metadata": {},
   "outputs": [
    {
     "name": "stderr",
     "output_type": "stream",
     "text": [
      "Downloading: 100%|\u001b[38;2;255;0;255m██████████\u001b[0m| 100/100 [00:10<00:00]\n"
     ]
    }
   ],
   "source": [
    "# 例:\n",
    "\n",
    "from tqdm import tqdm\n",
    "import time\n",
    " \n",
    "# 自定义复杂进度条：前缀、总次数、单位、颜色、后置统计\n",
    "pbar = tqdm(\n",
    "    total=100,\n",
    "    desc=\"Downloading\",\n",
    "    unit=\"MB\",\n",
    "    colour=\"#ff00ff\",\n",
    "    bar_format=\"{l_bar}{bar}| {n_fmt}/{total_fmt} [{elapsed}<{remaining}]\"\n",
    ")\n",
    "for i in range(100):\n",
    "    time.sleep(0.1)\n",
    "    # 因为pbar没有指定iterable, 所以需要手动update\n",
    "    # update的值总共不应超过total的值\n",
    "    pbar.update(1)\n",
    "    pbar.set_postfix(speed=f\"{i*0.1:.2f}MB/s\")\n",
    "pbar.close()"
   ]
  },
  {
   "cell_type": "code",
   "execution_count": 11,
   "id": "2d34b8d2",
   "metadata": {},
   "outputs": [],
   "source": [
    "# tqdm.update()\n",
    "# 作用: 手动增加进度条的值\n",
    "\n",
    "# 参数\n",
    "# 1. n (int/float)\n",
    "# 作用: 增量值, 大于零表示前进, 小于零表示回退(可能导致负值)\n",
    "# 默认: 1\n",
    "\n",
    "# 返回值: \n",
    "# 无 (直接修改进度条状态)"
   ]
  },
  {
   "cell_type": "code",
   "execution_count": 14,
   "id": "bde4f996",
   "metadata": {},
   "outputs": [
    {
     "name": "stderr",
     "output_type": "stream",
     "text": [
      "100%|██████████| 10/10 [00:01<00:00,  9.84it/s]\n"
     ]
    }
   ],
   "source": [
    "# 例: 在并发环境中安全更新进度条\n",
    "\n",
    "import threading\n",
    "from tqdm import tqdm\n",
    "\n",
    "pbar = tqdm(total=10)\n",
    "def download(thread_id):\n",
    "    for _ in range(2):\n",
    "        time.sleep(0.5)\n",
    "        pbar.update(1)\n",
    "threads =  [threading.Thread(target=download, args=(i,)) for i in range (5)]\n",
    "for t in threads:\n",
    "    t.start()\n",
    "for t in threads:\n",
    "    t.join()\n",
    "pbar.close()"
   ]
  },
  {
   "cell_type": "code",
   "execution_count": 15,
   "id": "ecd6772a",
   "metadata": {},
   "outputs": [],
   "source": [
    "# set_description(desc: str = None)\n",
    "# 作用: 动态更新进度条左侧的描述文本"
   ]
  },
  {
   "cell_type": "code",
   "execution_count": 16,
   "id": "c90bebc4",
   "metadata": {},
   "outputs": [],
   "source": [
    "# set_postfix(**kwargs)\n",
    "# 作用: 在进度条右侧显示动态附加信息 (例如损失值, 准确率)"
   ]
  },
  {
   "cell_type": "code",
   "execution_count": 19,
   "id": "40669084",
   "metadata": {},
   "outputs": [
    {
     "name": "stderr",
     "output_type": "stream",
     "text": [
      "100%|██████████| 10/10 [00:01<00:00,  9.68it/s, accuracy=0.09, loss=0.10]\n"
     ]
    }
   ],
   "source": [
    "# 例:\n",
    "\n",
    "from tqdm import tqdm\n",
    "pbar = tqdm(range(10))\n",
    "for i in pbar:\n",
    "    loss = 1 / (i + 1)\n",
    "    acc = i * 0.01\n",
    "    pbar.set_postfix(loss=f\"{loss:.2f}\", accuracy=f\"{acc:.2f}\")\n",
    "    time.sleep(0.1)"
   ]
  },
  {
   "cell_type": "code",
   "execution_count": 20,
   "id": "ff674fb4",
   "metadata": {},
   "outputs": [],
   "source": [
    "# write(s, file=None)\n",
    "# 作用: 在进度条下方输出信息, 避免打断显示"
   ]
  },
  {
   "cell_type": "code",
   "execution_count": 21,
   "id": "1086521e",
   "metadata": {},
   "outputs": [
    {
     "name": "stderr",
     "output_type": "stream",
     "text": [
      "处理数据:  40%|████      | 2/5 [00:01<00:01,  2.00it/s]    "
     ]
    },
    {
     "name": "stdout",
     "output_type": "stream",
     "text": [
      "遇到错误, 但继续执行...\n"
     ]
    },
    {
     "name": "stderr",
     "output_type": "stream",
     "text": [
      "处理数据: 100%|██████████| 5/5 [00:02<00:00,  1.99it/s]\n"
     ]
    }
   ],
   "source": [
    "# 例:\n",
    "\n",
    "import time\n",
    "from tqdm import tqdm\n",
    "\n",
    "pbar = tqdm(range(5), desc='处理数据')\n",
    "for i in pbar:\n",
    "    if i == 2:\n",
    "        pbar.write('遇到错误, 但继续执行...')\n",
    "    time.sleep(0.5)"
   ]
  },
  {
   "cell_type": "code",
   "execution_count": null,
   "id": "90ba74f8",
   "metadata": {},
   "outputs": [],
   "source": [
    "# refresh()\n",
    "# 作用: 强制刷新进度条显示"
   ]
  },
  {
   "cell_type": "code",
   "execution_count": 28,
   "id": "1b30822f",
   "metadata": {},
   "outputs": [],
   "source": [
    "# close()\n",
    "# 作用: 关闭进度条并释放资源"
   ]
  },
  {
   "cell_type": "code",
   "execution_count": 29,
   "id": "e787d65a",
   "metadata": {},
   "outputs": [],
   "source": [
    "# class trange(*args, **kwargs):\n",
    "# 作用: 等价于tqdm(range(*args, **kwargs))"
   ]
  }
 ],
 "metadata": {
  "kernelspec": {
   "display_name": "machine_learning",
   "language": "python",
   "name": "python3"
  },
  "language_info": {
   "codemirror_mode": {
    "name": "ipython",
    "version": 3
   },
   "file_extension": ".py",
   "mimetype": "text/x-python",
   "name": "python",
   "nbconvert_exporter": "python",
   "pygments_lexer": "ipython3",
   "version": "3.13.2"
  }
 },
 "nbformat": 4,
 "nbformat_minor": 5
}
