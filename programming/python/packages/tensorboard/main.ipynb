{
 "cells": [
  {
   "cell_type": "code",
   "execution_count": null,
   "id": "2923dd48-d9f1-4002-9325-e2205cf43b09",
   "metadata": {},
   "outputs": [],
   "source": [
    "# 本文档介绍torch.utils.tensorboard库的用法\n",
    "# tensorboard是一组用于数据可视化的工具, 主要功能有\n",
    "# 1. 可视化模型的网络架构\n",
    "# 2. 跟踪模型指标, 如loss和accuracy等\n",
    "# 3. 检查机器学习工作流程中权重、偏差和其他组件的直方图\n",
    "# 4. 显示多媒体数据, 如图像, 文本和音频等\n",
    "# 5. 将高维嵌入投影到低维空间"
   ]
  },
  {
   "cell_type": "code",
   "execution_count": 2,
   "id": "7001762f-1933-42ce-97a4-da354cbbf165",
   "metadata": {},
   "outputs": [],
   "source": [
    "# tensorboard的使用流程\n",
    "# 1. 将代码运行过程中某些你关心的数据保存在一个文件夹中 (由SummaryWriter完成)\n",
    "# 2. 读取该文件夹中的数据, 并用浏览器显示出来 (通过命令行指令完成)"
   ]
  },
  {
   "cell_type": "markdown",
   "id": "b49cc51d",
   "metadata": {},
   "source": [
    "[SummaryWriter类](./__summarywriter.ipynb)"
   ]
  }
 ],
 "metadata": {
  "kernelspec": {
   "display_name": "machine_learning",
   "language": "python",
   "name": "python3"
  },
  "language_info": {
   "codemirror_mode": {
    "name": "ipython",
    "version": 3
   },
   "file_extension": ".py",
   "mimetype": "text/x-python",
   "name": "python",
   "nbconvert_exporter": "python",
   "pygments_lexer": "ipython3",
   "version": "3.13.2"
  }
 },
 "nbformat": 4,
 "nbformat_minor": 5
}
