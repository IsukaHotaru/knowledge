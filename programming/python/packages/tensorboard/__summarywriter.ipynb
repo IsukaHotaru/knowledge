{
 "cells": [
  {
   "cell_type": "code",
   "execution_count": null,
   "id": "2923dd48-d9f1-4002-9325-e2205cf43b09",
   "metadata": {},
   "outputs": [],
   "source": [
    "# 本篇介绍类SummaryWriter\n",
    "# class torch.utils.tensorboard.writer.SummaryWriter\n",
    "# 用于生成并写入tensorboard记录到磁盘中\n",
    "\n",
    "# 方法:\n",
    "# add_scalar\n",
    "# add_scalars\n",
    "# add_image\n",
    "# add_images\n",
    "# add_figure\n",
    "# add_video\n",
    "# add_audio\n",
    "# add_text\n",
    "# add_graph\n",
    "# add_embedding\n",
    "# add_pr_curve\n",
    "# add_custom_scalars\n",
    "# add_mesh\n",
    "# add_hparams\n",
    "# flush()\n",
    "# close()"
   ]
  },
  {
   "cell_type": "markdown",
   "id": "30a74375",
   "metadata": {},
   "source": [
    "[用例](./__summarywriter.py)"
   ]
  },
  {
   "cell_type": "code",
   "execution_count": null,
   "id": "353d9e37-a8a2-471d-ae46-2aae2de101c8",
   "metadata": {},
   "outputs": [],
   "source": [
    "import torch\n",
    "from torch.utils.tensorboard import SummaryWriter\n",
    "\n",
    "writer = SummaryWriter()\n",
    "\n",
    "x = torch.arange(-5, 5, 0.1).view(-1, 1)\n",
    "y = -5 * x + 0.1 * torch.randn(x.size())\n",
    "\n",
    "model = torch.nn.Linear(1, 1)\n",
    "criterion = torch.nn.MSELoss()\n",
    "optimizer = torch.optim.SGD(model.parameters(), lr = 0.1)\n",
    "\n",
    "def train_model(iter):\n",
    "    for epoch in range(iter):\n",
    "        y1 = model(x)\n",
    "        loss = criterion(y1, y)\n",
    "        writer.add_scalar(\"Loss/train\", loss, epoch)\n",
    "        optimizer.zero_grad()\n",
    "        loss.backward()\n",
    "        optimizer.step()\n",
    "\n",
    "train_model(10)\n",
    "writer.close()\n",
    "\n",
    "# 之后在命令行调用 tensorboard --logdir=runs 即可在浏览器中显示"
   ]
  },
  {
   "cell_type": "code",
   "execution_count": null,
   "id": "43042107",
   "metadata": {},
   "outputs": [],
   "source": [
    "# CLASS torch.utils.tensorboard.wrier.SummaryWriter\n",
    "# 将记录直接写入位于log_dir文件夹中的event files"
   ]
  },
  {
   "cell_type": "code",
   "execution_count": null,
   "id": "a387247d",
   "metadata": {},
   "outputs": [],
   "source": [
    "# __init__(log_dir=None, comment=\"\", purge_step=None, max_queue=10,\n",
    "# flush_secs=120, file_name_suffix=\"\")\n",
    "# 初始化SummaryWriter实例\n",
    "\n",
    "# 参数:\n",
    "# 1. log_dir(str): 存档目录, 默认为runs/当前日期与时间-主机名(记录名)\n",
    "# 如 May07_11-02-39_DESKTOP-ABCDEFG\n",
    "# 通过层次化文件夹, 如./runs/exp1, runs/exp2, 可以用来比较不同的experiment\n",
    "# 2. comment(str): 将event files放在runs/默认log_dir+comment/里, 如果log_dir被指定, 则该参数无效\n",
    "# 3. purge_step(int): 当logging在第T+X步崩溃并回到第T步重启时,\n",
    "# 所有大于等于T步的event都会被清除\n",
    "# 4. max_queue(int): 在add类型方法调用flush强制将event写入磁盘前, 容许的最多的pending events数量\n",
    "# 5. flush_secs(int): 自动flush event的周期, 默认是120秒\n",
    "# 6. filename_suffix(str): 添加后缀名到所有log_dir文件夹中的event files上 "
   ]
  },
  {
   "cell_type": "code",
   "execution_count": null,
   "id": "0e8a5bf9",
   "metadata": {},
   "outputs": [],
   "source": [
    "# 例:\n",
    "\n",
    "from torch.utils.tensorboard import SummaryWriter\n",
    "\n",
    "# 创建一个默认SummaryWriter\n",
    "writer = SummaryWriter()\n",
    "# folder location: runs/May04_22_14_54_s-MacBook-Pro.local/\n",
    "\n",
    "# 创建指定log_dir的SummaryWriter\n",
    "writer = SummaryWriter(\"my_experiment\")\n",
    "# folder location: my_experiment\n",
    "\n",
    "# 创建指定comment后缀的SummaryWriter\n",
    "writer = SummaryWriter(comment=\"LR_0.1_BATCH_16\")\n",
    "# folder location: runs/May04_22-14-54_s-MacBook-\n",
    "# Pro.LocalLR_0.1_BATCH_16/"
   ]
  },
  {
   "cell_type": "code",
   "execution_count": null,
   "id": "d44b2f5b",
   "metadata": {},
   "outputs": [],
   "source": [
    "# add_scalar(tag, scalar_value, global_step=None, walltime=None, new_style=False,\n",
    "# double_precision=False)\n",
    "# 添加标量数据至summary中\n",
    "\n",
    "# 参数:\n",
    "# tag(str): 数据标识\n",
    "# tag可用于显示的分组, 形如\"A/B\"的tag, 其分组为A, 组内名称为B\n",
    "# scalar_value(float or string/blobname): 指定要存储的变量\n",
    "# global_step(int): 标识当前全局轮次\n",
    "# walltime(float): 可选参数, 默认为time.time(), 指定记录标量时的时间戳, 可用于对齐不同操作\n",
    "# new_style(boolean): 决定使用新样式(tensor field)或老样式(simple_value field)\n",
    "# 新样式加载数据速度更快"
   ]
  },
  {
   "cell_type": "code",
   "execution_count": 7,
   "id": "0440924a",
   "metadata": {},
   "outputs": [],
   "source": [
    "# 例:\n",
    "\n",
    "from torch.utils.tensorboard import SummaryWriter\n",
    "writer = SummaryWriter()\n",
    "x = range(100)\n",
    "for i in x:\n",
    "    writer.add_scalar(\"y=2x\", i * 2, i)\n",
    "writer.close()"
   ]
  },
  {
   "cell_type": "code",
   "execution_count": null,
   "id": "e308fc5a",
   "metadata": {},
   "outputs": [],
   "source": [
    "# add_scalars(main_tag, tag_scalar_dict, global_step=None, walltime=None)\n",
    "# 批量添加标量数据至summary\n",
    "\n",
    "# 参数\n",
    "# main_tag(str): 父tag名\n",
    "# tag_scalar_dict(dict): tag: value形式的键值对的dict\n",
    "# global_step(int): 标识当前全局轮次\n",
    "# walltime(float): 可选参数, 默认为time.time(), 指定记录标量时的时间戳, 可用于对齐不同操作"
   ]
  },
  {
   "cell_type": "code",
   "execution_count": 10,
   "id": "ce52635e",
   "metadata": {},
   "outputs": [],
   "source": [
    "# 例:\n",
    "\n",
    "import numpy as np\n",
    "from torch.utils.tensorboard import SummaryWriter\n",
    "writer = SummaryWriter()\n",
    "r = 5\n",
    "for i in range(100):\n",
    "    writer.add_scalars(\"run_14h\", {\"xsinx\": i*np.sin(i/r),\n",
    "                                   \"xcosx\": i*np.cos(i/r),\n",
    "                                   \"tanx\": np.tan(i/r)}, i)\n",
    "writer.close()"
   ]
  },
  {
   "cell_type": "code",
   "execution_count": null,
   "id": "33bec606",
   "metadata": {},
   "outputs": [],
   "source": [
    "# add_histogram(tag, values, global_step=None, bins=\"tensorflow\", walltime=None,\n",
    "# max_bins=None)\n",
    "# 记录张量的分布直方图, 可用于动态追踪模型参数, 激活值或自定义数据的分布变化\n",
    "\n",
    "# 参数:\n",
    "# tag(str): 数据标识\n",
    "# values(torch.Tensor, numpy.ndarry, or string/blobname): 直方图纵坐标对应的变量\n",
    "# global_step(int): 标识当前全局轮次\n",
    "# bins(str or int): {\"tensorflow\", \"auto\", \"fd\", ...}中的其中一个, 决定分桶策略\n",
    "# 可在https://docs.scipy.org/doc/numpy/reference/generated/numpy.histogram.html找到其他选项\n",
    "# 为int类型如50时, 为自定义分桶数量\n",
    "# walltime(float): 可选参数, 默认为time.time(), 指定记录标量时的时间戳, 可用于对齐不同操作\n",
    "# max_bins: 最大分桶数, 仅当bins=\"tensorflow\"时生效"
   ]
  },
  {
   "cell_type": "code",
   "execution_count": 13,
   "id": "8acf6291",
   "metadata": {},
   "outputs": [],
   "source": [
    "# 例:\n",
    "\n",
    "from torch.utils.tensorboard import SummaryWriter\n",
    "import numpy as np\n",
    "writer = SummaryWriter()\n",
    "for i in range(10):\n",
    "    # 生成随机数据: 1000个[0, 1)上均匀分布的数\n",
    "    x = np.random.random(1000)\n",
    "\n",
    "    # 记录直方图\n",
    "    #   - tag: \"distribution centers\"\n",
    "    #   - values: x + i (数据, 每次循环右移i, 显示动态变化)\n",
    "    #   - global_step: i (横轴位置)\n",
    "    writer.add_histogram(\"distribution centers\", x + i, i)\n",
    "\n",
    "# 关闭写入器, 确保数据写入磁盘\n",
    "writer.close()"
   ]
  },
  {
   "cell_type": "code",
   "execution_count": 14,
   "id": "d2208dfe",
   "metadata": {},
   "outputs": [],
   "source": [
    "# add_image(tag, img_tensor, global_step=None, walltime=None,\n",
    "# dataformats=\"CHW\")\n",
    "# 将图像数据写入summary, 需要pillow包\n",
    "\n",
    "# 参数:\n",
    "# tag(str): 数据标识\n",
    "# img_tensor(torch.Tensor, numpy.ndarray, or string/blobname): 图像数据\n",
    "# global_step(int): 标识当前全局轮次\n",
    "# walltime(float): 可选参数, 默认为time.time(), 指定记录标量时的时间戳, 可用于对齐不同操作\n",
    "# dataformats(str): 图像数据的格式, 如CHW(默认), HWC, HW, WH等\n",
    "# 其中C=channels, H=height, W=width"
   ]
  },
  {
   "cell_type": "code",
   "execution_count": 2,
   "id": "3443e514",
   "metadata": {},
   "outputs": [],
   "source": [
    "# 例:\n",
    "\n",
    "from torch.utils.tensorboard import SummaryWriter\n",
    "import numpy as np\n",
    "img = np.zeros((3, 100, 100))\n",
    "img[0] = np.arange(0, 10000).reshape(100, 100) / 10000\n",
    "img[1] = 1 - np.arange(0, 10000).reshape(100, 100) / 10000\n",
    "\n",
    "img_HWC = np.zeros((100, 100, 3))\n",
    "img_HWC[:, :, 0] = np.arange(0, 10000).reshape(100, 100) / 10000\n",
    "img_HWC[:, :, 1] = 1 - np.arange(0, 10000).reshape(100, 100) / 10000\n",
    "\n",
    "writer = SummaryWriter()\n",
    "writer.add_image(\"my_image\", img, 0)\n",
    "\n",
    "# 如果不是默认图像格式, 则需要设置图像格式\n",
    "writer.add_image(\"my_image_HWC\", img_HWC, 0, dataformats=\"HWC\")\n",
    "writer.close()"
   ]
  },
  {
   "cell_type": "code",
   "execution_count": 3,
   "id": "1c5e210f",
   "metadata": {},
   "outputs": [],
   "source": [
    "# add_images(tag,, img_tensor, global_step=None, walltime=None,\n",
    "# dataformats = 'NCHW')\n",
    "# 批量写入image到summary, 需要pillow包\n",
    "\n",
    "# 参数:\n",
    "# tag(str): 数据标识\n",
    "# img_tensor(torch.Tensorm, numpy.ndarry, or string/blobname): 图像数据\n",
    "# global_step(int): 记录全局轮次\n",
    "# walltime(float): 可选参数, 默认为time.time(), 指定记录标量时的时间戳, 可用于对齐不同操作\n",
    "# dataformats(str): 图像数据格式, 默认NCHW, 可以是NHWC, CHW, HWC, HW, WH等等\n",
    "# N: 图像数量, C: 通道数量, H: 高度, W: 宽度\n"
   ]
  },
  {
   "cell_type": "code",
   "execution_count": null,
   "id": "8622bbd8",
   "metadata": {},
   "outputs": [],
   "source": [
    "# 例:\n",
    "\n",
    "from torch.utils.tensorboard import SummaryWriter\n",
    "import numpy as np\n",
    "\n",
    "img_batch = np.zeros((16, 3, 100, 100))\n",
    "for i in range(16):\n",
    "    img_batch[i, 0] = np.arange(0, 10000).reshape(100, 100) / 10000 / 16 * i\n",
    "    img_batch[i, 1] = (1 - np.arange(0, 10000).reshape(100, 100) / 10000) / 16 * i\n",
    "\n",
    "writer = SummaryWriter()\n",
    "writer.add_images('my_image_batch', img_batch, 0)\n",
    "writer.close()"
   ]
  },
  {
   "cell_type": "code",
   "execution_count": 5,
   "id": "50dd949c",
   "metadata": {},
   "outputs": [],
   "source": [
    "# add_figure(tag, figure, global_step=None, close=True, walltime=None)\n",
    "# 将matplotlib的figure对象转化为image, 再添加到summary中\n",
    "# 需要matplotlib包\n",
    "\n",
    "# 参数:\n",
    "# tag(str): 数据标识\n",
    "# figure(Union[Figure, list['Figure']]): figure或者figure列表\n",
    "# global_step(Optional[int]): 全局轮次\n",
    "# close(bool): 是否自动关闭figure\n",
    "# walltime(Optional[float]): 可选参数, 默认为time.time(), 指定记录标量时的时间戳, 可用于对齐不同操作\n"
   ]
  },
  {
   "cell_type": "code",
   "execution_count": 6,
   "id": "dfaf2bfe",
   "metadata": {},
   "outputs": [],
   "source": [
    "# add_video(tag, vid_tensor, global_step=None, fps=4, walltime=None)\n",
    "# 添加视频到summary\n",
    "# 需要moviepy包"
   ]
  },
  {
   "cell_type": "code",
   "execution_count": 7,
   "id": "9167fe6b",
   "metadata": {},
   "outputs": [],
   "source": [
    "# add_audio(tag, snd_tensor, global_step=None, sample_rate=44100,\n",
    "# walltime=None)\n",
    "# 添加音频到summary"
   ]
  },
  {
   "cell_type": "code",
   "execution_count": null,
   "id": "8f643e41",
   "metadata": {},
   "outputs": [],
   "source": [
    "# add_text(tag, text_string, global_step=None, walltime=None)\n",
    "# 添加文本到summary\n",
    "\n",
    "# 参数:\n",
    "# tag(str): 数据标识\n",
    "# text_string(str): 要保存的文本\n",
    "# global_step(int): 全局步数\n",
    "# walltime(Optional[float]): 可选参数, 默认为time.time(), \n",
    "# 指定记录标量时的时间戳, 可用于对齐不同操作"
   ]
  },
  {
   "cell_type": "code",
   "execution_count": 10,
   "id": "944b9916",
   "metadata": {},
   "outputs": [],
   "source": [
    "# 例:\n",
    "\n",
    "from torch.utils.tensorboard import SummaryWriter\n",
    "\n",
    "writer = SummaryWriter()\n",
    "\n",
    "writer.add_text('lstm', 'This is an lstm', 0)\n",
    "writer.add_text('rnn', 'This is an rnn', 10)\n",
    "writer.close()"
   ]
  },
  {
   "cell_type": "code",
   "execution_count": null,
   "id": "d30bbc9d",
   "metadata": {},
   "outputs": [],
   "source": [
    "# add_graph(model, input_to_model=None, verbose=False,\n",
    "# use_strict_trace=True)\n",
    "# 添加graph数据到summary\n",
    "# graph指的是模型架构, 而不是图神经网络\n",
    "\n",
    "# 参数:\n",
    "# model(torch.nn.Module): 需要绘制的模型\n",
    "# inpt_to_model(torch.Tensor or list of torch.Tensor):\n",
    "# 待输入的变量或元组\n",
    "# verbose(bool): 是否在控制台打印图结构\n",
    "# use_strict_trace(bool): 是否向torch.jit.trace传递关键字参数strict\n",
    "# 值为false代表让tracer记录容器类型(list, dict)"
   ]
  },
  {
   "cell_type": "code",
   "execution_count": null,
   "id": "7786d27a",
   "metadata": {},
   "outputs": [],
   "source": [
    "# add_embedding(mat, metadata=None, label_img=None, global_step=None,\n",
    "# tag='default', metadata_header=None)\n",
    "# 将embedding projector添加到summary\n",
    "\n",
    "# mat(torch.Tensor or numpy.ndarray): 矩阵, 每行是数据点的特征向量\n",
    "# metadata(list): 标签的list, 其中每个元素会被转换成string\n",
    "# label_img(torch.Tensor): 与每个数据点相匹配的images\n",
    "# global_step(int): 全局轮次\n",
    "# tag(str): embedding的名称\n",
    "# metadata_header(list): 给具有多列的metadata添加headers, 如果给定\n",
    "# 则每个metadata必须具有与headers相匹配的values\n",
    "# Shape:e\n",
    "#   mat: (N, D), N是数据数量, D是特征维数\n",
    "#   label_img: (N, C, H, W)"
   ]
  },
  {
   "cell_type": "code",
   "execution_count": 2,
   "id": "ea88ff34",
   "metadata": {},
   "outputs": [
    {
     "name": "stdout",
     "output_type": "stream",
     "text": [
      "warning: Embedding dir exists, did you set global_step for add_embedding()?\n",
      "warning: Embedding dir exists, did you set global_step for add_embedding()?\n"
     ]
    }
   ],
   "source": [
    "# 例:\n",
    "\n",
    "import keyword\n",
    "import torch\n",
    "from torch.utils.tensorboard import SummaryWriter\n",
    "\n",
    "meta = []\n",
    "while len(meta) < 100:\n",
    "    meta = meta + keyword.kwlist\n",
    "meta = meta[:100]\n",
    "\n",
    "for i, v in enumerate(meta):\n",
    "    meta[i] = v + str(i)\n",
    "\n",
    "label_img = torch.rand(100, 3, 10, 32)\n",
    "for i in range(100):\n",
    "    label_img[i] *= i / 100.0\n",
    "\n",
    "writer = SummaryWriter()\n",
    "writer.add_embedding(torch.randn(100\n",
    "    , 5), metadata=meta,\n",
    "    label_img=label_img)\n",
    "writer.add_embedding(torch.randn(100\n",
    "    , 5), label_img=label_img)\n",
    "writer.add_embedding(torch.randn(100\n",
    "    , 5), metadata=meta)\n",
    "writer.close()"
   ]
  },
  {
   "cell_type": "code",
   "execution_count": 3,
   "id": "31c1c193",
   "metadata": {},
   "outputs": [],
   "source": [
    "# add_pr_curve(tag, labels, predictions, global_step=None,\n",
    "# num_thresholds=127, weights=None, walltime=None)\n",
    "# 添加precision-recall曲线, TensorBoard UI可以交互式调整threshold\n",
    "\n",
    "# 参数:\n",
    "# tag(str): 数据标识\n",
    "# labels(torch.Tensor, numpy.ndarray, or string/blobname): 已知正确答案\n",
    "# predictions(torch.Tensor, numpy.ndarray, or string/blobname): 预测该类为正类的概率(0到1)\n",
    "# global_step(int): 记录全局轮次\n",
    "# num_thresholds(int): thresholds采样点数\n",
    "# walltime(float): 可选参数, 默认为time.time(), \n",
    "# 指定记录标量时的时间戳, 可用于对齐不同操作"
   ]
  },
  {
   "cell_type": "code",
   "execution_count": 4,
   "id": "c3f1f730",
   "metadata": {},
   "outputs": [],
   "source": [
    "# 例:\n",
    "\n",
    "from torch.utils.tensorboard import SummaryWriter\n",
    "import numpy as np\n",
    "\n",
    "labels = np.random.randint(2, size=100)\n",
    "predictions = np.random.rand(100)\n",
    "writer = SummaryWriter()\n",
    "writer.add_pr_curve('pr_curve', labels, predictions, 0)\n",
    "writer.close()"
   ]
  },
  {
   "cell_type": "code",
   "execution_count": 6,
   "id": "fed8bc82",
   "metadata": {},
   "outputs": [],
   "source": [
    "# add_hparams(hparam_dict, metric_dict, hparam_domain_discrete=None,\n",
    "# run_name=None, global_step=None)\n",
    "# 添加待比较的超参数集\n",
    "\n",
    "# 参数:\n",
    "# hparam_dict(dict): 超参数字典, value可以是bool, string, float, int, 或者None\n",
    "# metric_dict(dict): 度量字典, key必须唯一\n",
    "# 否则通过add_Scalar添加的值也会被hparam调用\n",
    "# hparam_domain_discrete: Optional[Dict[str, List[Any]]]:\n",
    "# 包含所有超参数名称和其可取的离散值列表\n",
    "# run_name(str): run的名称, None时默认为当前时间戳\n",
    "# global_step(int): 记录全局轮次"
   ]
  },
  {
   "cell_type": "code",
   "execution_count": 7,
   "id": "71c65a1d",
   "metadata": {},
   "outputs": [],
   "source": [
    "from torch.utils.tensorboard import SummaryWriter\n",
    "with SummaryWriter() as w:\n",
    "    for i in range(5):\n",
    "        w.add_hparams({\n",
    "            'lr': 0.1*i, \n",
    "            'bsize': i\n",
    "        }, {\n",
    "            'hparam/accuracy': 10*i,\n",
    "            'hparam/loss': 10*i\n",
    "        })"
   ]
  },
  {
   "cell_type": "code",
   "execution_count": 8,
   "id": "5bc27feb",
   "metadata": {},
   "outputs": [],
   "source": [
    "# flush()\n",
    "# 将所有event files写入磁盘"
   ]
  },
  {
   "cell_type": "code",
   "execution_count": null,
   "id": "078935ac",
   "metadata": {},
   "outputs": [],
   "source": [
    "# close()\n",
    "# 关闭summarywriter, 且在关闭前会调用flush()"
   ]
  }
 ],
 "metadata": {
  "kernelspec": {
   "display_name": "machine_learning",
   "language": "python",
   "name": "python3"
  },
  "language_info": {
   "codemirror_mode": {
    "name": "ipython",
    "version": 3
   },
   "file_extension": ".py",
   "mimetype": "text/x-python",
   "name": "python",
   "nbconvert_exporter": "python",
   "pygments_lexer": "ipython3",
   "version": "3.13.2"
  }
 },
 "nbformat": 4,
 "nbformat_minor": 5
}
