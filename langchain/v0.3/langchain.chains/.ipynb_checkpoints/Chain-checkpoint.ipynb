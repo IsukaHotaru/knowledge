{
 "cells": [
  {
   "cell_type": "code",
   "execution_count": 1,
   "id": "9cc83947-ef1f-48ac-83b9-60e3c46821ca",
   "metadata": {},
   "outputs": [],
   "source": [
    "# Chain\n",
    "# class langchain.chains.base.Chain\n",
    "# Base: RunnableSerializable[dict[str, Any], dict[str, Any]], ABC\n",
    "# 用于构建结构化序列组件调用, 包含模型, 文档检索, 其他chain等, 并为该序列提供简单接口\n",
    "# 由于Chain是Runnable的子类, 故也具有with_config, with_types, with_retry等方法\n",
    "\n",
    "# 特点\n",
    "# 状态化: 为任意chain增加memory\n",
    "# 可观察: 传递回调以执行额外功能\n",
    "# 可复合: 具有易组合的chain API\n",
    "\n",
    "# 主要方法\n",
    "# __call__: 执行chain的主要方法, 输入字典输出字典\n",
    "# run: 只有一部分chain可使用, 接受args/kwargs作为输入, 以string或object为输出\n",
    "\n",
    "# 主要参数\n",
    "# 1. callbacks: list[BaseCallbackHandler] | BaseCallbackManager | None = None\n",
    "# 在chain的全生命周期中调用CallbackHandlers.\n",
    "# 2. memory: BaseMemory | None = None\n",
    "# 传递参数给chain最开始时, 并存储返回的所有参数在chain结束时.\n",
    "# 3. metadata: dict[str, Any] | None = None\n",
    "# 作为参数传递给CallbackHandlers, 与每次chain的调用相关联.\n",
    "# 4. tags: list[str] | None = None\n",
    "# 作为参数传递给CallbackHandlers, 与每次chain的调用相关联\n",
    "# 5. verbose: bool[Optional] = langchain.globals.get_verbose()\n",
    "# 决定是否在控制台详细输出中间结果, 默认等于全局设置值"
   ]
  },
  {
   "cell_type": "code",
   "execution_count": 2,
   "id": "82ac98dd-ba44-48d7-971d-4675ceaff41a",
   "metadata": {},
   "outputs": [],
   "source": [
    "# SequentialChain\n",
    "# class langchain.chains.sequential.SequentialChain\n",
    "# Base: Chain\n",
    "# 上一个chain的输出作为接下来的chain的输入\n",
    "\n",
    "# 实现方式\n",
    "# 1. SimpleSequentialChain\n",
    "# 仅支持单输入/单输出\n",
    "# 2. SequentialChain\n",
    "# 支持多输入/多输出, 通过output_key和input_variables显式映射变量"
   ]
  },
  {
   "cell_type": "code",
   "execution_count": null,
   "id": "3cac6a04-53e9-42e7-acf8-950a99d1eca4",
   "metadata": {},
   "outputs": [],
   "source": [
    "# 例:\n",
    "\n",
    "\n",
    "\n",
    "from langchain import LLMChain, SequentialChain, PromptTemplate\n",
    "from langchain_openai import ChatOpenAI\n",
    "\n",
    "# 定义链A: 产品名生成\n",
    "name_prompt = PromptTemplate.from_template(\"请给生产{product}的工厂起一个厂名\")\n",
    "name_chain = LLMChain(llm=ChatOpenAI(temperature=0.7, prompt=name_prompt, output_key=\"factory_name\"))\n",
    "\n",
    "# 定义链B: 广告语生成\n",
    "slogan_prompt = PromptTemplate.from_template(\"为厂名{factory_name}写一段广告语\")\n",
    "slogan_prompt"
   ]
  }
 ],
 "metadata": {
  "kernelspec": {
   "display_name": "Python 3 (ipykernel)",
   "language": "python",
   "name": "python3"
  },
  "language_info": {
   "codemirror_mode": {
    "name": "ipython",
    "version": 3
   },
   "file_extension": ".py",
   "mimetype": "text/x-python",
   "name": "python",
   "nbconvert_exporter": "python",
   "pygments_lexer": "ipython3",
   "version": "3.13.2"
  }
 },
 "nbformat": 4,
 "nbformat_minor": 5
}
