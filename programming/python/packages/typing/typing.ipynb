{
 "cells": [
  {
   "cell_type": "code",
   "execution_count": 1,
   "id": "117371b2-7986-4d0d-873a-fe8ce5b98ac6",
   "metadata": {},
   "outputs": [],
   "source": [
    "# typing\n",
    "# 自Python 3.5版本引入的标准库, 提供类型提示和类型注解功能, 用于对代码进行\n",
    "# 静态类型检查和类型推断, 有效提高了代码的可读性, 可维护性和i可靠性\n",
    "\n",
    "# 主要功能\n",
    "# 1. 类型注解\n",
    "# 通过类型注解工具, 如基本类型(int, str), 容器类型(List, Dict), 函数类型(Callable, Tuple),\n",
    "# 泛型(Generic, Typevar)等, 在函数声明, 变量声明和类声明中指定参数的类型, 返回值的类型等.\n",
    "# 2. 类型检查\n",
    "# 通过与第三方工具集成(如mypy), 可以对使用了类型注解的代码进行静态类型检查,\n",
    "# 可帮助发现潜在类型错误和逻辑错误\n",
    "# 3. 类, 函数和变量装饰器\n",
    "# 通过如@overload, @abstractmethod, @final等装饰器, 修饰类, 函数和变量, 增加代码的可读性和可靠性\n",
    "# 4. typing_extensions扩展模块\n",
    "# 包括高级类型工具和类型别名, 用于更复杂的类型定义和注解"
   ]
  },
  {
   "cell_type": "code",
   "execution_count": 3,
   "id": "b1a7decc-d277-4dcf-b98a-6ffc8b5a38f6",
   "metadata": {},
   "outputs": [],
   "source": [
    "# 常用类型\n",
    "# 注: int, float, bool, str, bytes不需要import typing\n",
    "# Any, Union, Tuple等需要import typing\n",
    "\n",
    "# 基本类型\n",
    "# int, float, bool, str, List, Dict\n",
    "# bytes: 字节类型\n",
    "# Any: 任意类型\n",
    "# Union: 多个类型中的任意一种类型\n",
    "# Tuple: 固定长度的元组类型\n",
    "\n",
    "# 泛型\n",
    "# Generic: 泛型基类, 用于创建泛型类或泛型函数\n",
    "# TypeVar: 类型变量, 用于创建表示不确定类型的占位符\n",
    "# Callable: 可调用对象类型, 用于表示函数类型\n",
    "# Optional: 可选类型, 表示一个值可以为指定类型或None\n",
    "# Iterable: 可迭代对象类型\n",
    "# Mapping: 映射类型, 用于表示键值对的映射\n",
    "# Sequence: 序列类型, 用于表示有序集合类型\n",
    "# Type: 泛型类, 用于表示类型本身"
   ]
  },
  {
   "cell_type": "code",
   "execution_count": null,
   "id": "2a13d745-5240-469d-ba07-6d46263a09b4",
   "metadata": {},
   "outputs": [],
   "source": [
    "# 例1:\n",
    "\n",
    "from typing import List, Tuple, Dict\n",
    "\n",
    "def fun1(a0: int, s0: str, f0: float, b0: bool) -> Tuple[List, Tuple, Dict, bool]:\n",
    "    list1 = list(range(a0))\n",
    "    tup1 = (a0, s0, f0, b0)\n",
    "    dict1 = {s0: f0}\n",
    "    b1 = b0\n",
    "    return list1, tup1, dict1, b1"
   ]
  },
  {
   "cell_type": "code",
   "execution_count": 4,
   "id": "a849de71-a725-4c21-b054-d9ff7b055a89",
   "metadata": {},
   "outputs": [],
   "source": [
    "# 例2:\n",
    "\n",
    "from typing import List\n",
    "\n",
    "def func(a: int, b: str) -> List[int or str]:  # or关键字表示多种类型\n",
    "    list1 = []\n",
    "    list1.append(a)\n",
    "    list1.append(b)\n",
    "    return list1"
   ]
  },
  {
   "cell_type": "code",
   "execution_count": 9,
   "id": "2d755871-b99b-4731-9755-90c7458ae04d",
   "metadata": {},
   "outputs": [],
   "source": [
    "# 例3: 使用泛型占位符\n",
    "\n",
    "from typing import TypeVar\n",
    "\n",
    "T = TypeVar(\"T\", int, float, str)\n",
    "\n",
    "def foo(name: T) -> str:\n",
    "    return str(name)"
   ]
  },
  {
   "cell_type": "code",
   "execution_count": 10,
   "id": "e3e0f297-2ab4-4165-8975-c8614298573e",
   "metadata": {},
   "outputs": [],
   "source": [
    "# 例4: 使用Type表示类型本身\n",
    "\n",
    "from typing import Type\n",
    "\n",
    "value: Type[int]  # value是一个Type对象, 表示int类型本身"
   ]
  },
  {
   "cell_type": "code",
   "execution_count": 11,
   "id": "280e3ec2-505d-4113-aba0-98fb7bbd97c0",
   "metadata": {},
   "outputs": [],
   "source": [
    "# 类型别名\n",
    "# 使用type语句定义, 通过创建一个TypeAliasType实例实现 (python 3.12版本及以后)\n",
    "from collections.abc import Sequence\n",
    "\n",
    "type ConnectionOptions = dict[str, str]\n",
    "type Address = tuple[str, int]\n",
    "type Server = tuple[Address, ConnectionOptions]\n",
    "\n",
    "def broadcast_message(message: str, servers: Sequence[Server]) -> None:\n",
    "    pass\n",
    "\n",
    "# 静态类型检查器会认为上面的类型签名完全等价于以下写法\n",
    "def broadcast_message(\n",
    "    message: str,\n",
    "    servers: Sequence[tuple[tuple[str, int], dict[str, str]]]\n",
    ") -> None:\n",
    "    pass\n",
    "    \n",
    "# 在3.12版本以前, 也可以通过直接赋值创建\n",
    "Vector = list[float]\n",
    "\n",
    "# 通过用TypeAlias标记来显式说明这是一个类型别名, 而非一般的变量赋值\n",
    "from typing import TypeAlias\n",
    "Vector: TypeAlias = list[float]"
   ]
  },
  {
   "cell_type": "code",
   "execution_count": 12,
   "id": "d83ae5f8-407b-4696-9b34-c10ea1740a54",
   "metadata": {
    "collapsed": true,
    "jupyter": {
     "outputs_hidden": true
    }
   },
   "outputs": [
    {
     "ename": "TypeError",
     "evalue": "Cannot subclass an instance of NewType. Perhaps you were looking for: `AdminUserId = NewType('AdminUserId', UserId)`",
     "output_type": "error",
     "traceback": [
      "\u001b[31m---------------------------------------------------------------------------\u001b[39m",
      "\u001b[31mTypeError\u001b[39m                                 Traceback (most recent call last)",
      "\u001b[36mCell\u001b[39m\u001b[36m \u001b[39m\u001b[32mIn[12]\u001b[39m\u001b[32m, line 25\u001b[39m\n\u001b[32m     23\u001b[39m UserId = NewType(\u001b[33m\"\u001b[39m\u001b[33mUserId\u001b[39m\u001b[33m\"\u001b[39m, \u001b[38;5;28mint\u001b[39m)\n\u001b[32m     24\u001b[39m \u001b[38;5;66;03m# 将在运行时失败且无法通过类型检查\u001b[39;00m\n\u001b[32m---> \u001b[39m\u001b[32m25\u001b[39m \u001b[38;5;28;01mclass\u001b[39;00m\u001b[38;5;250m \u001b[39m\u001b[34;01mAdminUserId\u001b[39;00m(UserId): \u001b[38;5;28;01mpass\u001b[39;00m\n\u001b[32m     27\u001b[39m UserId = NewType(\u001b[33m\"\u001b[39m\u001b[33mUserId\u001b[39m\u001b[33m\"\u001b[39m, \u001b[38;5;28mint\u001b[39m)\n\u001b[32m     28\u001b[39m ProUserId = NewType(\u001b[33m\"\u001b[39m\u001b[33mProUserId\u001b[39m\u001b[33m\"\u001b[39m, UserId)\n",
      "\u001b[36mFile \u001b[39m\u001b[32mC:\\programming\\anaconda\\envs\\machine_learning\\Lib\\typing.py:3432\u001b[39m, in \u001b[36mNewType.__mro_entries__.<locals>.Dummy.__init_subclass__\u001b[39m\u001b[34m(cls)\u001b[39m\n\u001b[32m   3430\u001b[39m \u001b[38;5;28;01mdef\u001b[39;00m\u001b[38;5;250m \u001b[39m\u001b[34m__init_subclass__\u001b[39m(\u001b[38;5;28mcls\u001b[39m):\n\u001b[32m   3431\u001b[39m     subclass_name = \u001b[38;5;28mcls\u001b[39m.\u001b[34m__name__\u001b[39m\n\u001b[32m-> \u001b[39m\u001b[32m3432\u001b[39m     \u001b[38;5;28;01mraise\u001b[39;00m \u001b[38;5;167;01mTypeError\u001b[39;00m(\n\u001b[32m   3433\u001b[39m         \u001b[33mf\u001b[39m\u001b[33m\"\u001b[39m\u001b[33mCannot subclass an instance of NewType. Perhaps you were looking for: \u001b[39m\u001b[33m\"\u001b[39m\n\u001b[32m   3434\u001b[39m         \u001b[33mf\u001b[39m\u001b[33m\"\u001b[39m\u001b[33m`\u001b[39m\u001b[38;5;132;01m{\u001b[39;00msubclass_name\u001b[38;5;132;01m}\u001b[39;00m\u001b[33m = NewType(\u001b[39m\u001b[38;5;132;01m{\u001b[39;00msubclass_name\u001b[38;5;132;01m!r}\u001b[39;00m\u001b[33m, \u001b[39m\u001b[38;5;132;01m{\u001b[39;00msuperclass_name\u001b[38;5;132;01m}\u001b[39;00m\u001b[33m)`\u001b[39m\u001b[33m\"\u001b[39m\n\u001b[32m   3435\u001b[39m     )\n",
      "\u001b[31mTypeError\u001b[39m: Cannot subclass an instance of NewType. Perhaps you were looking for: `AdminUserId = NewType('AdminUserId', UserId)`"
     ]
    }
   ],
   "source": [
    "# 创建新类型\n",
    "# 通过NewType助手创建新类型\n",
    "from typing import NewType\n",
    "\n",
    "UserId = NewType(\"UserId\", int)\n",
    "some_id = UserId(524313)\n",
    "\n",
    "def get_user_name(user_id: UserId) -> str:\n",
    "    pass\n",
    "\n",
    "# 通过类型检查 \n",
    "user_a = get_user_name(UserId(42351))\n",
    "# 未通过类型检查: 整数不能直接作为UserId\n",
    "user_b = get_user_name(-1)\n",
    "\n",
    "# output的类型为int而非UserId, 因此可避免意外创建UserId类型\n",
    "output = UserId(23413) + UserId(54341)\n",
    "\n",
    "# 对于Derived = NewType(\"Derived\", Base), 创建Derived的子类型是无效的\n",
    "# 但在派生的NewType基础上创建NewType是有效的\n",
    "from typing import NewType\n",
    "\n",
    "UserId = NewType(\"UserId\", int)\n",
    "# 将在运行时失败且无法通过类型检查\n",
    "class AdminUserId(UserId): pass\n",
    "\n",
    "UserId = NewType(\"UserId\", int)\n",
    "ProUserId = NewType(\"ProUserId\", UserId)"
   ]
  },
  {
   "cell_type": "code",
   "execution_count": 13,
   "id": "307d98f3-b885-4982-95e7-3c094eb5b14c",
   "metadata": {},
   "outputs": [],
   "source": [
    "# type Alias = Original会使类型检查其在任何适合把Alias和Original视为等价\n",
    "# 而NewType声明把一种类型当成另一种类型的子类. Derived= NewType(\"Derived\", Original)时,\n",
    "# 静态类型检查器把Derived当作Original的子类, 以最小化运行时错误成本, 但其实Derived不会创建类"
   ]
  },
  {
   "cell_type": "code",
   "execution_count": 15,
   "id": "c5a28853-fcf2-44f4-b74e-be6feb3f7056",
   "metadata": {},
   "outputs": [],
   "source": [
    "# 标注可调用对象\n",
    "# 函数或其他callable对象, 可使用collections.abc.Callable来标注\n",
    "# Callable[[int], str]表示接受int类型的单个形参并返回一个str的函数\n",
    "# 下标语法总是要使用两个值: 参数列表和返回类型\n",
    "# 参数列表只能是以下几种类型之一: 由类型组成的列表, ParamSpec, Concatenate或省略号\n",
    "# 如果将一个省略号字面量...作为参数列表, 则表示可以接受包含任意形参列表的可调用对象"
   ]
  },
  {
   "cell_type": "code",
   "execution_count": 2,
   "id": "5dd55afe-efda-4337-9c1e-10cf6885109c",
   "metadata": {},
   "outputs": [],
   "source": [
    "# 例:\n",
    "\n",
    "from collections.abc import Callable, Awaitable\n",
    "\n",
    "def feeder(get_next_item: Callable[[], str]) -> None:\n",
    "    pass\n",
    "\n",
    "def async_query(on_success: Callable[[int], None],\n",
    "               on_error: Callable[[int, Exception], None]) -> None:\n",
    "    pass\n",
    "\n",
    "async def on_update(value: str) -> None:\n",
    "    pass\n",
    "\n",
    "callback: Callable[[str], Awaitable[None]] = on_update\n",
    "\n",
    "def concat(x: str, y: str) -> str:\n",
    "    return x + y\n",
    "\n",
    "x: Callable[..., str]\n",
    "x = str  # 可以\n",
    "x = concat  # 同样可以"
   ]
  },
  {
   "cell_type": "code",
   "execution_count": 3,
   "id": "146cda54-120c-4678-ad39-80b29f69e47d",
   "metadata": {},
   "outputs": [],
   "source": [
    "# Callable无法表达复杂的签名, 如接受可变数量参数的函数, 重载函数, 或具有仅限关键字形参的函数\n",
    "# 但这些签名可通过自定义具有__call__()方法的Protocol类来表达"
   ]
  },
  {
   "cell_type": "code",
   "execution_count": 4,
   "id": "414206e3-f449-4b60-b109-5b3133e063f4",
   "metadata": {},
   "outputs": [],
   "source": [
    "# 例:\n",
    "\n",
    "from collections.abc import Iterable\n",
    "from typing import Protocol\n",
    "\n",
    "class Combiner(Protocol):\n",
    "    def __call__(self, *vals: bytes, maxlen: int | None = None) -> list[bytes]:\n",
    "        pass\n",
    "\n",
    "def batch_proc(data: Iterable[bytes], cb_results: Combiner) -> bytes:\n",
    "    pass\n",
    "\n",
    "def good_cb(*vals: bytes, maxlen: int | None = None) -> list[bytes]:\n",
    "    pass\n",
    "\n",
    "def bad_cb(*vals: bytes, maxitems: int | None) -> list[bytes]:\n",
    "    pass\n",
    "\n",
    "batch_proc([], good_cb)  # 可以\n",
    "batch_proc([], bad_cb)  # 不可以, 参数2的类型不兼容, 因为在回调中有不同的名称和类别"
   ]
  },
  {
   "cell_type": "code",
   "execution_count": 5,
   "id": "50535c0a-ddc0-44b1-adbe-2c7fb1b4fb37",
   "metadata": {},
   "outputs": [],
   "source": [
    "# ParamSpec是专门用于处理函数参数规范的类型注解, 在装饰器, 函数组合等场景中尤为重要(python ≥ 3.10)\n",
    "# class typing.ParamSpec(name, *, bound=None, covariant=False,\n",
    "# contravariant=False, default=typing.NoDefault\n",
    "\n",
    "# 主要功能:\n",
    "# 1.保留参数类型信息\n",
    "# 2.定义参数规范\n",
    "# P = ParamSpec('P'), 相当于创建了一个参数类型占位符, 用于后续类型注解\n",
    "# 3.解包参数类型\n",
    "\n",
    "# 参数解析\n",
    "#\n",
    "# 1.args, kwargs: 由于ParamSpec同时捕获了位置参数和关键字参数, P.args和P.kwargs可用于将\n",
    "# ParamSpec分割成其组成部分. P.args代表给定调用中的位置参数的元组, 只能用于注释*args.\n",
    "# P.kwargs代表给定调用中的关键字参数字典, 只能用于注释**kwargs.\n",
    "# 在运行时, 二者分别是ParamSpecArgs和ParamSpecKwargs的实例\n",
    "#\n",
    "# 2.__name__: 形参规格的名称\n",
    "# \n",
    "# 3.__default__: 形参规格的默认值, 如果没有则为typing.NoDefault(python ≥ 3.13)\n",
    "#\n",
    "# 4.has_default(): 返回是否有默认值, 等价于检测__default__是否为typing.NoDefault单例(python ≥ 3.13)"
   ]
  },
  {
   "cell_type": "code",
   "execution_count": 8,
   "id": "20302877-bf80-49cc-a642-e48aa6cac2e3",
   "metadata": {},
   "outputs": [],
   "source": [
    "# 例: 编写装饰器或函数组合工具\n",
    "\n",
    "# 传统写法: 会丢失参数类型信息\n",
    "from typing import Callable, TypeVar\n",
    "\n",
    "T = TypeVar('T')\n",
    "def decorator(f: Callable[..., T]) -> Callable[..., T]:  # 此处...会丢失参数类型\n",
    "    def wrapper(*args, **kwargs):\n",
    "        return f(*args, **kwargs)\n",
    "    return wrapper\n",
    "\n",
    "# 使用ParamSpec后:\n",
    "from typing import ParamSpec, Callable, TypeVar\n",
    "\n",
    "P = ParamSpec('P')\n",
    "T = TypeVar('T')\n",
    "\n",
    "def decorator(f: Callable[P, T]) -> Callable[P, T]:\n",
    "    def wrapper(*args: P.args, **kwargs:P.kwargs) -> T:\n",
    "        return f(*args, **kwargs)\n",
    "    return wrapper"
   ]
  },
  {
   "cell_type": "code",
   "execution_count": 9,
   "id": "cc412a89-c264-4ab8-b02e-654376923112",
   "metadata": {
    "collapsed": true,
    "jupyter": {
     "outputs_hidden": true
    }
   },
   "outputs": [
    {
     "ename": "NameError",
     "evalue": "name 'reveal_type' is not defined",
     "output_type": "error",
     "traceback": [
      "\u001b[31m---------------------------------------------------------------------------\u001b[39m",
      "\u001b[31mNameError\u001b[39m                                 Traceback (most recent call last)",
      "\u001b[36mCell\u001b[39m\u001b[36m \u001b[39m\u001b[32mIn[9]\u001b[39m\u001b[32m, line 18\u001b[39m\n\u001b[32m     14\u001b[39m \u001b[38;5;129m@log_calls\u001b[39m\n\u001b[32m     15\u001b[39m \u001b[38;5;28;01mdef\u001b[39;00m\u001b[38;5;250m \u001b[39m\u001b[34madd\u001b[39m(a: \u001b[38;5;28mint\u001b[39m, b: \u001b[38;5;28mfloat\u001b[39m) -> \u001b[38;5;28mfloat\u001b[39m:\n\u001b[32m     16\u001b[39m     \u001b[38;5;28;01mreturn\u001b[39;00m a + b\n\u001b[32m---> \u001b[39m\u001b[32m18\u001b[39m \u001b[43mreveal_type\u001b[49m(add)  \u001b[38;5;66;03m# 类型检查器显示: def (a: int, b: float) -> float\u001b[39;00m\n",
      "\u001b[31mNameError\u001b[39m: name 'reveal_type' is not defined"
     ]
    }
   ],
   "source": [
    "# 例: 类型安全的装饰器\n",
    "\n",
    "from typing import ParamSpec, Callable, TypeVar\n",
    "import logging\n",
    "\n",
    "P = ParamSpec('T')\n",
    "T = TypeVar('T')\n",
    "\n",
    "def log_calls(f: Callable[P, T]) -> Callable[P, T]:\n",
    "    def wrapper(*args: P.args, **kwargs: P.kwargs) -> T:\n",
    "        logging.info(f\"Calling {f.__name__} with args={args}, kwargs={kwargs}\")\n",
    "        return f(*args, **kwargs)\n",
    "    return wrapper\n",
    "\n",
    "@log_calls\n",
    "def add(a: int, b: float) -> float:\n",
    "    return a + b\n",
    "\n",
    "reveal_type(add)  # 类型检查器显示: def (a: int, b: float) -> float"
   ]
  },
  {
   "cell_type": "code",
   "execution_count": 10,
   "id": "6d30de7f-0740-46a7-8311-fef319072264",
   "metadata": {},
   "outputs": [],
   "source": [
    "# 例: 函数组合工具\n",
    "\n",
    "from typing import ParamSpec, Callable, TypeVar, Concatenate\n",
    "\n",
    "P = ParamSpec('P')\n",
    "Q = ParamSpec('Q')\n",
    "R = TypeVar('R')\n",
    "\n",
    "def compose(\n",
    "    g: Callable[Concatenate[P, Q], R],\n",
    "    f: Callable[Q, P]\n",
    ") -> Callable[Q, R]:\n",
    "    def composed(*args: Q.args, **kwargs: Q.kwargs) -> R:\n",
    "        intermediate = f(*args, **kwargs)\n",
    "        return g(intermediate, *args, **kwargs)\n",
    "    return composed"
   ]
  },
  {
   "cell_type": "code",
   "execution_count": null,
   "id": "8ae1347a-a667-4b1a-8f93-9219ce8c99c7",
   "metadata": {},
   "outputs": [],
   "source": [
    "# TypeVar和ParamSpec的区别\n",
    "# TypeVar主要用于定义泛型变量, 而ParamSpec用于定义函数参数规范.\n",
    "# TypeVar的关联类型是返回值类型, 而ParamSpec关联类型主要是参数类型(位置参数和关键字参数)"
   ]
  }
 ],
 "metadata": {
  "kernelspec": {
   "display_name": "Python 3 (ipykernel)",
   "language": "python",
   "name": "python3"
  },
  "language_info": {
   "codemirror_mode": {
    "name": "ipython",
    "version": 3
   },
   "file_extension": ".py",
   "mimetype": "text/x-python",
   "name": "python",
   "nbconvert_exporter": "python",
   "pygments_lexer": "ipython3",
   "version": "3.13.2"
  }
 },
 "nbformat": 4,
 "nbformat_minor": 5
}
