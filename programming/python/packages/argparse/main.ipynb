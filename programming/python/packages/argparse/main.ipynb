{
 "cells": [
  {
   "cell_type": "code",
   "execution_count": null,
   "id": "bcebb137",
   "metadata": {},
   "outputs": [],
   "source": [
    "# 本文档介argparse库的主要功能及用法\n",
    "# argparse是Python标准库中用于解析命令行参数的模块\n",
    "# 广泛应用于脚本和工具开发中. 它能够自动生成帮助信息,\n",
    "# 检查参数合法性, 并简化复杂参数处理逻辑\n",
    "\n",
    "# 功能:\n",
    "# 1. 自动生成帮助信息: 根据代码中的参数定义, 自动\n",
    "# 生成--help输出的说明文档\n",
    "# 2. 参数类型检查: 支持整数, 浮点数, 字符串或自定义\n",
    "# 类型验证\n",
    "# 3. 子命令支持: 实现类似 git commit 或docker run\n",
    "# 等层级化命令结构\n",
    "# 4. 默认值与必需参数: 灵活设置参数的默认值或\n",
    "# 强制要求用户提供\n",
    "# 5. 分组与互斥选项: 将参数分组管理, 或定义互斥规则\n",
    "# (例如--verbose和--quiet不能同时使用)"
   ]
  },
  {
   "cell_type": "code",
   "execution_count": null,
   "id": "5ad4818f",
   "metadata": {},
   "outputs": [],
   "source": [
    "# class argparse.ArgumentParser\n",
    "# 功能: 构建命令行接口的核心类, 负责定义参数规则, 解析输入并生成帮助信息\n",
    "\n",
    "# 参数\n",
    "# 1. prog=None\n",
    "# 功能: 程序名称, 默认推断为sys.argv[0]\n",
    "# 2. usage=None\n",
    "# 功能: 自定义用法说明, 覆盖自动生成的usage行\n",
    "# 3. description=None\n",
    "# 功能: 显示在帮助信息的开头, 程序功能的详细描述\n",
    "# 4. epilog=None\n",
    "# 功能: 显示在帮助信息的末尾, 补充说明文本\n",
    "# 5. parents=[]\n",
    "# 功能: 继承其他ArgmentParser的参数 (用于复用公共参数)"
   ]
  },
  {
   "cell_type": "code",
   "execution_count": null,
   "id": "5e714e09",
   "metadata": {},
   "outputs": [],
   "source": [
    "# 例 (参数5):\n",
    "\n",
    "import argparse\n",
    "\n",
    "parent_parser = argparse.ArgumentParser(add_help=False)\n",
    "parent_parser.add_argument(\"--verbose\", action=\"store_true\")\n",
    "\n",
    "# 指定parent后, parser也可以使用parent的argument\n",
    "parser = argparse.ArgumentParser(parents=[parent_parser])"
   ]
  },
  {
   "cell_type": "code",
   "execution_count": null,
   "id": "b6096c23",
   "metadata": {},
   "outputs": [],
   "source": [
    "# 6. formatter_class=argparse.HelpFormatter\n",
    "# 功能: 自定义帮助信息的格式化类\n",
    "# 可选项: \n",
    "# argparse.HelpFormatter: 自动换行(默认宽度80字符), 参数按名称排序\n",
    "# argparse.RawDescriptionHelpFormatter: 保留description和epilog中的原始换行\n",
    "# argparse.ArgumentDefaultsHelpFormatter: 自动在帮助信息中添加参数的默认值\n",
    "# argparse.MetavarTypeHelpFormatter: 在帮助信息中同时显示参数类型和目标变量名\n",
    "# 或者通过继承arparse.HelpFormatter类并重写相应方法实现自定义"
   ]
  },
  {
   "cell_type": "code",
   "execution_count": null,
   "id": "27c9c73d",
   "metadata": {},
   "outputs": [
    {
     "data": {
      "text/plain": [
       "_StoreAction(option_strings=['--num'], dest='num', nargs=None, const=None, default=10, type=<class 'int'>, choices=None, required=False, help='数值参数', metavar=None, deprecated=False)"
      ]
     },
     "execution_count": 6,
     "metadata": {},
     "output_type": "execute_result"
    }
   ],
   "source": [
    "# 例 (参数6):\n",
    "\n",
    "# argparse.ArgumentDefaultsHelpFormatter\n",
    "import argparse\n",
    "\n",
    "parser = argparse.ArgumentParser(\n",
    "    formatter_class=argparse.ArgumentDefaultsHelpFormatter\n",
    ")\n",
    "parser.add_argument(\"--num\", type=int, default=10, help=\"数值参数\")\n",
    "# 输出帮助信息\n",
    "# --num NUM     数值参数 (default: 10)"
   ]
  },
  {
   "cell_type": "code",
   "execution_count": null,
   "id": "72f61d03",
   "metadata": {},
   "outputs": [],
   "source": [
    "# 7. prefix_chars='-'\n",
    "# 功能: 定义可选参数的前缀字符, 支持'-'和'/'\n",
    "# 8. fromfile_prefix_chars=None\n",
    "# 功能: 允许从文件读取参数, 适用于参数过多或复用参数场景 (如@args.txt)\n",
    "# 文件内容格式: 每行一个参数 (支持name=value或短格式-o value)\n",
    "# 示例文件 args.txt:\n",
    "# --input=data.csv\n",
    "# -o\n",
    "# output.json\n",
    "# --format=json\n",
    "# 使用例: \n",
    "# python script.py @args.txt"
   ]
  },
  {
   "cell_type": "code",
   "execution_count": 7,
   "id": "d320ea53",
   "metadata": {},
   "outputs": [],
   "source": [
    "# 9. argument_default=None\n",
    "# 功能: 设置所有参数的默认值 (覆盖单个参数的默认值)\n",
    "# 10. conflict_handler='error'\n",
    "# 功能: 处理参数命名冲突的策略, 默认error, 可选resolve\n",
    "# 11. add_help=True\n",
    "# 功能: 是否自动田间--help参数\n",
    "# 12. allow_abbrev=True\n",
    "# 功能: 是否允许参数缩写 (如--inp匹配--input)\n",
    "# 13. exit_on_error=True\n",
    "# 功能: 解析错误时是否直接退出程序, 设为False可自定义错误处理"
   ]
  },
  {
   "cell_type": "code",
   "execution_count": null,
   "id": "05a17216",
   "metadata": {},
   "outputs": [],
   "source": [
    "# method ArgumentParser.add_argument()\n",
    "# 功能: 定义单个参数的规则\n",
    "from argparse import ArgumentParser\n",
    "# 参数:\n",
    "# 1. name_or_flags\n",
    "# 作用: 定义参数的名称或标志 (必填)\n",
    "# 格式: \n",
    "#   - 位置参数: 直接写参数名, 如\"input\"\n",
    "#   - 可选参数, 包含短选项(如\"-o\")和长选项(如\"--output\")\n",
    "# 2. action=\"store\"\n",
    "# 作用: 定义参数的行为\n",
    "# 可选值:\n",
    "#   - \"store\": 存储参数值\n",
    "#   - \"store_const\": 存储常量, 需要配合const参数\n",
    "#   - \"store_true\" / \"store_false\": 存储布尔值\n",
    "#   - \"append\": 追加值到列表, 例如多次指定-v生成[True, True]\n",
    "#   - \"count\": 统计参数出现的次数, 如-vvv对应3\n",
    "#   - \"version\": 输出版本信息并退出, 需要配合version参数\n",
    "#   - 自定义action: 通过继承argparse.Action实现\n",
    "# 3. nargs=None\n",
    "# 作用: 定义参数接收的值数量\n",
    "# 可选值:\n",
    "#   - None: 必须且只能接收一个值\n",
    "#   - \"?\": 接收零个或一个值, 需要配合const或default参数\n",
    "#   - \"*\": 接收零个或多个值, 以列表形式存储\n",
    "#   - \"+\": 接收一个或多个值\n",
    "#   - 整数N: 接收固定数量的值\n",
    "# 4. const=None\n",
    "# 作用: 为action=\"store_const\"或action=\"append_const\"提供常量值\n",
    "# 5. default=None | argparse.SUPPERSS\n",
    "# 作用: 参数未提供时的默认值\n",
    "# argparse.SUPPRESS: 不设置默认值 (若未提供参数, 则属性不存在)\n",
    "# 6. type=str\n",
    "# 作用: 参数值的类型转换函数\n",
    "# 可选值:\n",
    "#   - 内置类型: 如int, float, bool等\n",
    "#   - 自定义函数: 如 lambda x: x.lower()\n",
    "# 7. choices=None\n",
    "# 作用: 限制参数值的可选范围\n",
    "# 格式: 列表或集合\n",
    "# 8. required=False\n",
    "# 作用: 设置是否为必需参数, 该参数对可选参数无效\n",
    "# 9. help=None\n",
    "# 作用: 参数的帮助说明, 显示在--help中\n",
    "# 10. metavar\n",
    "# 作用: 帮助信息中显示的参数名称 (默认自动推断)\n",
    "# 如\"-o FILE\"就等同于(name_or_flags=\"-o\", metavar=\"FILE\")\n",
    "# 11. dest\n",
    "# 作用: 解析后属性的名称 (默认自动推断)\n",
    "# 如 parser.add_argument(\"--output-file\", dest=\"output\", help=\"输出文件\")\n",
    "# args = parser.parse_args()\n",
    "# print(args.output) # 访问属性\n",
    "# 自动推断是根据name_or_flags字段得到的, 如\"--output\" -> output属性"
   ]
  },
  {
   "cell_type": "code",
   "execution_count": 13,
   "id": "3445ddfe",
   "metadata": {},
   "outputs": [
    {
     "name": "stdout",
     "output_type": "stream",
     "text": [
      "输入文件: data.txt\n",
      "输出文件: result.json\n",
      "格式: csv\n",
      "详细级别: 3\n"
     ]
    }
   ],
   "source": [
    "# 例:\n",
    "\n",
    "import argparse\n",
    "\n",
    "parser = argparse.ArgumentParser(description=\"文件处理工具\")\n",
    "\n",
    "# 定义参数\n",
    "parser.add_argument(\n",
    "    \"input\",\n",
    "    help=\"输入文件路径\",\n",
    "    type=str,\n",
    "    metavar=\"INPUT_FILE\"\n",
    ")\n",
    "parser.add_argument(\n",
    "    \"-o\", \"--output\",\n",
    "    help=\"输出文件路径 (默认: output.txt)\",\n",
    "    type=str,\n",
    "    default=\"output.txt\",\n",
    "    metavar=\"OUTPUT_FILE\"\n",
    ")\n",
    "parser.add_argument(\n",
    "    \"--format\",\n",
    "    help=\"输出格式 (csv/json)\",\n",
    "    choices=[\"csv\", \"json\"],\n",
    "    default=\"csv\"\n",
    ")\n",
    "parser.add_argument(\n",
    "    \"-v\", \"--verbose\",\n",
    "    action=\"count\",\n",
    "    default=0,\n",
    "    help=\"增加详细级别 (可多次指定)\"\n",
    ")\n",
    "\n",
    "# 解析参数\n",
    "args = parser.parse_args([\n",
    "    \"data.txt\",  \n",
    "    \"-o\", \"result.json\",\n",
    "    \"--format\", \"csv\",\n",
    "    \"-vvv\"\n",
    "])\n",
    "\n",
    "# 使用参数\n",
    "print(f\"输入文件: {args.input}\")\n",
    "print(f\"输出文件: {args.output}\")\n",
    "print(f\"格式: {args.format}\")\n",
    "print(f\"详细级别: {args.verbose}\")"
   ]
  },
  {
   "cell_type": "code",
   "execution_count": 14,
   "id": "0f8e4a07",
   "metadata": {},
   "outputs": [],
   "source": [
    "\n",
    "# method Argument.parse_args()\n",
    "# 功能: 解析命令行参数并返回结果的核心方法\n",
    "\n",
    "# 参数\n",
    "# 1. args=None\n",
    "# 功能: 指定要解析的参数列表, 若提供自定义列表, 则解析该列表中的参数\n",
    "# 默认值None表示自动使用sys.argv[1:]\n",
    "# 可选值: 任意iterable, 元素需要为字符串格式的参数"
   ]
  },
  {
   "cell_type": "code",
   "execution_count": 15,
   "id": "4713a229",
   "metadata": {},
   "outputs": [
    {
     "name": "stdout",
     "output_type": "stream",
     "text": [
      "custom.txt\n"
     ]
    }
   ],
   "source": [
    "# 例:\n",
    "\n",
    "import argparse\n",
    "\n",
    "parser = argparse.ArgumentParser()\n",
    "parser.add_argument(\"-o\", \"--output\", help=\"输出文件\")\n",
    "\n",
    "# 解析自定义参数列表\n",
    "custom_args = [\"-o\", \"custom.txt\"]\n",
    "args2 = parser.parse_args(args=custom_args)\n",
    "print(args2.output)"
   ]
  },
  {
   "cell_type": "code",
   "execution_count": 16,
   "id": "be6fae1c",
   "metadata": {},
   "outputs": [],
   "source": [
    "# 2. namespace=None\n",
    "# 功能: 指定解析结果的存储对象, 默认使用argparse.Namespace\n",
    "# 如果提供自定义对象, 结果将存储在该对象的属性中\n",
    "# 可选值:\n",
    "# 任何实现了属性赋值的对象, 如types.SimpleNmaespace或自定义类实例\n",
    "# 也就是必须支持通过setattr(obj, \"attribute_name\", value)的方式冬天设置属性\n",
    "# 默认情况下, argparse会创建一个argparse.Namespace实例来存储结果\n",
    "# 可通过args.attribute来访问这些值"
   ]
  },
  {
   "cell_type": "code",
   "execution_count": 18,
   "id": "daaae421",
   "metadata": {},
   "outputs": [
    {
     "name": "stdout",
     "output_type": "stream",
     "text": [
      "results.txt\n",
      "<class 'types.SimpleNamespace'>\n"
     ]
    }
   ],
   "source": [
    "# 例: 使用type.SimpleNamespace\n",
    "\n",
    "import argparse\n",
    "from types import SimpleNamespace\n",
    "\n",
    "parser = argparse.ArgumentParser()\n",
    "parser.add_argument(\"-o\", \"--output\", help=\"输出文件\")\n",
    "\n",
    "# 使用 SimpleNamespace 存储结果\n",
    "custom_ns = SimpleNamespace()\n",
    "args = parser.parse_args(args=[\"-o\", \"results.txt\"], namespace=custom_ns)\n",
    "print(custom_ns.output)\n",
    "print(type(custom_ns))"
   ]
  },
  {
   "cell_type": "code",
   "execution_count": 21,
   "id": "cbe925bd",
   "metadata": {},
   "outputs": [
    {
     "name": "stdout",
     "output_type": "stream",
     "text": [
      "Setting output = None\n",
      "Setting output = data.csv\n",
      "data.csv\n",
      "<class '__main__.CustomConfig'>\n"
     ]
    }
   ],
   "source": [
    "# 例: 使用自定义类\n",
    "import argparse\n",
    "\n",
    "class CustomConfig:\n",
    "    def __setattr__(self, name, value):\n",
    "        print(f\"Setting {name} = {value}\")\n",
    "        super().__setattr__(name, value)\n",
    "\n",
    "parser = argparse.ArgumentParser()\n",
    "parser.add_argument(\"-o\", \"--output\", help=\"输出文件\")\n",
    "\n",
    "config = CustomConfig()\n",
    "args = parser.parse_args(args=[\"-o\", \"data.csv\"], namespace=config)\n",
    "\n",
    "print(config.output)\n",
    "print(type(config))"
   ]
  },
  {
   "cell_type": "code",
   "execution_count": 23,
   "id": "421da095",
   "metadata": {},
   "outputs": [],
   "source": [
    "# method ArgumentParser.add_mutually_exclusive_group()\n",
    "# 功能: 创建一个互斥组, 组内的参数再解析时会被检查\n",
    "# 若检查到多个参数同时出现, argparse会抛出错误\n",
    "\n",
    "# 参数:\n",
    "# required=False\n",
    "# 功能: 强制要求用户至少选择组内的一个参数, False表示均可选\n",
    "\n",
    "# 返回值:\n",
    "# _MutuallyExclusiveGroup对象\n",
    "# 功能: 通过返回的组对象添加互斥参数"
   ]
  },
  {
   "cell_type": "code",
   "execution_count": 24,
   "id": "5804d886",
   "metadata": {},
   "outputs": [
    {
     "name": "stderr",
     "output_type": "stream",
     "text": [
      "usage: ipykernel_launcher.py [-h] [--verbose | --quiet]\n",
      "ipykernel_launcher.py: error: argument --quiet: not allowed with argument --verbose\n"
     ]
    },
    {
     "ename": "SystemExit",
     "evalue": "2",
     "output_type": "error",
     "traceback": [
      "An exception has occurred, use %tb to see the full traceback.\n",
      "\u001b[31mSystemExit\u001b[39m\u001b[31m:\u001b[39m 2\n"
     ]
    },
    {
     "name": "stderr",
     "output_type": "stream",
     "text": [
      "c:\\programming\\anaconda\\envs\\machine_learning\\Lib\\site-packages\\IPython\\core\\interactiveshell.py:3675: UserWarning: To exit: use 'exit', 'quit', or Ctrl-D.\n",
      "  warn(\"To exit: use 'exit', 'quit', or Ctrl-D.\", stacklevel=1)\n"
     ]
    }
   ],
   "source": [
    "# 例: 基础互斥组:\n",
    "\n",
    "import argparse\n",
    "\n",
    "parser = argparse.ArgumentParser()\n",
    "group = parser.add_mutually_exclusive_group()\n",
    "\n",
    "group.add_argument(\"--verbose\", action=\"store_true\", help=\"启用详细模式\")\n",
    "group.add_argument(\"--quiet\", action=\"store_true\", help=\"静默模式\")\n",
    "\n",
    "args = parser.parse_args([\n",
    "    \"--verbose\",\n",
    "    \"--quiet\"\n",
    "])"
   ]
  },
  {
   "cell_type": "code",
   "execution_count": 25,
   "id": "8844aa22",
   "metadata": {},
   "outputs": [
    {
     "name": "stderr",
     "output_type": "stream",
     "text": [
      "usage: ipykernel_launcher.py [-h] [--format {csv,json} |\n",
      "                             --custom-format CUSTOM_FORMAT]\n",
      "ipykernel_launcher.py: error: argument --custom-format: not allowed with argument --format\n"
     ]
    },
    {
     "ename": "SystemExit",
     "evalue": "2",
     "output_type": "error",
     "traceback": [
      "An exception has occurred, use %tb to see the full traceback.\n",
      "\u001b[31mSystemExit\u001b[39m\u001b[31m:\u001b[39m 2\n"
     ]
    },
    {
     "name": "stderr",
     "output_type": "stream",
     "text": [
      "c:\\programming\\anaconda\\envs\\machine_learning\\Lib\\site-packages\\IPython\\core\\interactiveshell.py:3675: UserWarning: To exit: use 'exit', 'quit', or Ctrl-D.\n",
      "  warn(\"To exit: use 'exit', 'quit', or Ctrl-D.\", stacklevel=1)\n"
     ]
    }
   ],
   "source": [
    "# 例: 带值参数的互斥组\n",
    "\n",
    "import argparse\n",
    "\n",
    "parser = argparse.ArgumentParser()\n",
    "group = parser.add_mutually_exclusive_group()\n",
    "\n",
    "group.add_argument(\"--format\", choices=[\"csv\", \"json\"], help=\"输出格式\")\n",
    "group.add_argument(\"--custom-format\", type=str, help=\"自定义格式\")\n",
    "\n",
    "args = parser.parse_args([\n",
    "    \"--format\", \"csv\",\n",
    "    \"--custom-format\", \"txt\"\n",
    "])"
   ]
  }
 ],
 "metadata": {
  "kernelspec": {
   "display_name": "machine_learning",
   "language": "python",
   "name": "python3"
  },
  "language_info": {
   "codemirror_mode": {
    "name": "ipython",
    "version": 3
   },
   "file_extension": ".py",
   "mimetype": "text/x-python",
   "name": "python",
   "nbconvert_exporter": "python",
   "pygments_lexer": "ipython3",
   "version": "3.13.2"
  }
 },
 "nbformat": 4,
 "nbformat_minor": 5
}
