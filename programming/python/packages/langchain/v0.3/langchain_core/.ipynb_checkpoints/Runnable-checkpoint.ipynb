{
 "cells": [
  {
   "cell_type": "code",
   "execution_count": 1,
   "id": "0e8e8a6e-8721-409e-9b9b-12174909e3f0",
   "metadata": {},
   "outputs": [],
   "source": [
    "# Runnable\n",
    "# class langchain_core.runnables.base.Runnable\n",
    "# 可被调用, 批处理, 流处理, 变换和组合的工作单元\n",
    "# 代码上定义为抽象类"
   ]
  },
  {
   "cell_type": "code",
   "execution_count": 15,
   "id": "07a99d42-a71b-4286-9a0f-0aa020f78d0b",
   "metadata": {},
   "outputs": [],
   "source": [
    "# 主要方法: (a代表async)\n",
    "# invoke/ainvoke: 单输入->输出\n",
    "# batch/abatch: 多输入->多输出\n",
    "# stream/astream: 单输入->流式输出 (返回一个生成器, 由生成器来输出结果)\n",
    "# astream_log: 单输入->流式输出(+中间结果)\n",
    "\n",
    "# 内置优化:\n",
    "# Batch: 默认通过线程池来并行调用invoke()方法, 可重写\n",
    "# Async: 默认通过python的asyncio库来执行异步, 可重写\n",
    "\n",
    "# 所有方法支持单个配置参数, 该参数可用于配置执行, 为追踪和调试添加标签及元数据\n",
    "# 该参数称为RunnableConfig, 可定义以下属性\n",
    "# run_name: 用于设置Runnable的名称, 该名称将用于日志和其他位置以标识运行(不继承)\n",
    "# run_id: 此调用的唯一标识符, 子调用将获得它们自己的唯一运行 ID.\n",
    "# tags: (列表)此调用和任何子调用的标签.\n",
    "# metadata: (字典)此调用和任何子调用的元数据.\n",
    "# callbacks: 此调用和任何子调用的回调.\n",
    "# max_concurrency: 要进行的最大并行调用数(例如, 由batch使用)\n",
    "# recursion_limit: 调用可以递归的最大次数 (例如: 由返回Runnables的Runnables使用)\n",
    "# configurable: Runnable的可配置属性的运行时值\n",
    "# 通过input_schema, output_schema和config_schema属性\n",
    "# 分别暴露input, output,config的概要信息"
   ]
  },
  {
   "cell_type": "code",
   "execution_count": null,
   "id": "b7bf53a4-2ebf-4c9d-b1f6-6d479b44a636",
   "metadata": {},
   "outputs": [],
   "source": [
    "some_runnable.invoke(\n",
    "    some_input,\n",
    "    config={\n",
    "        \"run_name\": \"my_run\",\n",
    "        \"tags\": [\"tag1\", \"tag2\"],\n",
    "        \"metadata\": {\"key\": \"value\"}\n",
    "    }\n",
    ")"
   ]
  },
  {
   "cell_type": "code",
   "execution_count": null,
   "id": "c80c990e-d7e5-42c3-99df-bb6610e1b2c6",
   "metadata": {},
   "outputs": [],
   "source": [
    "# RunnableConfig的传播\n",
    "# 许多Runnables由其他Runnables组成, 重要的是RunnableConfig传播到Runnable进行的所有子调用\n",
    "# 这允许向父Runnable提供运行时配置值, 这些值由所有子调用继承\n",
    "# 对于不允许继承的Config值, 则不可能设置和传播回调或其他配置值"
   ]
  },
  {
   "cell_type": "code",
   "execution_count": null,
   "id": "7996f1e1-ad00-42f1-985d-a4db625afaa1",
   "metadata": {},
   "outputs": [],
   "source": [
    "# max_concurrency参数\n",
    "# 使用batch或batch_as_completed方法时, 可以通过该参数控制最大并行调用数."
   ]
  },
  {
   "cell_type": "code",
   "execution_count": null,
   "id": "ed130433-02f0-4b5d-8f35-dd2cc3b96a4b",
   "metadata": {},
   "outputs": [],
   "source": [
    "# 创建Runnable的两种方式\n",
    "# 1. RunnableLambda: 适用于对于不需要流式传输的简单转换\n",
    "# 2. RunnableGenerator: 适用于需要流式传输的复杂转换\n",
    "# 不推荐继承Runnables来创建自定义Runnable, 容易出错且更复杂"
   ]
  },
  {
   "cell_type": "code",
   "execution_count": null,
   "id": "fc65e646-fd85-463c-964f-be75be83ab81",
   "metadata": {},
   "outputs": [],
   "source": [
    "# 组合Runnables的两种方式\n",
    "# 1. RunnableSequence. 通过LCEL(自动支持sync, async, batch和streaming)\n",
    "# 或传入Runnables列表构造执行链\n",
    "# 2. RunnableParallel, 通过传入字典字面量或字典构造并发执行Runnables."
   ]
  },
  {
   "cell_type": "code",
   "execution_count": 4,
   "id": "d3c601e5-6126-4460-a961-a3314c6d96e8",
   "metadata": {},
   "outputs": [
    {
     "name": "stdout",
     "output_type": "stream",
     "text": [
      "single:  4\n",
      "batch:  [4, 6, 8]\n",
      "parallel:  {'mul_2': 4, 'mul_5': 10}\n"
     ]
    }
   ],
   "source": [
    "# 例:\n",
    "\n",
    "from langchain_core.runnables import RunnableLambda\n",
    "\n",
    "# 使用LCEL构造RunnableSequence\n",
    "sequence = RunnableLambda(lambda x: x+1) | RunnableLambda(lambda x: x*2)\n",
    "print(\"single: \", sequence.invoke(1))\n",
    "print(\"batch: \", sequence.batch([1, 2, 3]))\n",
    "\n",
    "# 使用字典字面量构造RunnableParallel\n",
    "parallel = RunnableLambda(lambda x: x+1) | {\n",
    "    \"mul_2\": RunnableLambda(lambda x: x*2),\n",
    "    \"mul_5\": RunnableLambda(lambda x: x*5)\n",
    "}\n",
    "print(\"parallel: \", parallel.invoke(1))"
   ]
  },
  {
   "cell_type": "code",
   "execution_count": 5,
   "id": "a81284ff-8dca-4332-8aa2-ce98987d3b3d",
   "metadata": {},
   "outputs": [],
   "source": [
    "# Runnable对象(包含Runnable Chain等复合对象) 含有可调用方法\n",
    "# 以修改Runnable对象行为"
   ]
  },
  {
   "cell_type": "code",
   "execution_count": 10,
   "id": "f02454e9-5d45-48e6-90a4-0c865797708a",
   "metadata": {},
   "outputs": [
    {
     "name": "stdout",
     "output_type": "stream",
     "text": [
      "{'title': 'add_one_input', 'type': 'integer'}\n",
      "{'title': 'buggy_double_output', 'type': 'integer'}\n",
      "This code failed, and will probably be retried!\n",
      "This code failed, and will probably be retried!\n",
      "6\n"
     ]
    }
   ],
   "source": [
    "# 例:\n",
    "\n",
    "from langchain_core.runnables import RunnableLambda\n",
    "\n",
    "import random\n",
    "\n",
    "def add_one(x: int) -> int:\n",
    "    return x + 1\n",
    "\n",
    "def buggy_double(y: int) -> int:\n",
    "    \"\"\"Buggy code that will fail 70% of the time\"\"\"\n",
    "    if random.random() > 0.3:\n",
    "        print(\"This code failed, and will probably be retried!\")\n",
    "        raise ValueError(\"Triggered buggy code\")\n",
    "    return y * 2\n",
    "\n",
    "sequence = (\n",
    "    RunnableLambda(add_one) |\n",
    "    RunnableLambda(buggy_double).with_retry(\n",
    "        stop_after_attempt=10,\n",
    "        wait_exponential_jitter=False\n",
    "    )\n",
    ")\n",
    "\n",
    "print(sequence.input_schema.model_json_schema())\n",
    "print(sequence.output_schema.model_json_schema())\n",
    "print(sequence.invoke(2))"
   ]
  },
  {
   "cell_type": "code",
   "execution_count": null,
   "id": "e069c6d6-d80f-42bb-a37a-76d07b94bf5d",
   "metadata": {},
   "outputs": [],
   "source": [
    "# 回调函数\n",
    "# 用于构建可观测性, 调试能力和自定义逻辑的核心机制\n",
    "# 通过注册回调函数, 可实时监控链式调用的执行过程, 捕获中间结果, 修改执行流程或记录关键指标\n",
    "# Runnable允许在以下时间节点注入自定义逻辑\n",
    "# 1. 执行前: on_chain_start\n",
    "# 2. 执行后: on_chain_end\n",
    "# 3. 输入生成时: on_input_generation\n",
    "# 4. 输出生成时: on_output_generation\n",
    "# 5. 错误发生时: on_error"
   ]
  },
  {
   "cell_type": "code",
   "execution_count": null,
   "id": "eca1508a-b3bc-4ae8-883f-d16a73168967",
   "metadata": {},
   "outputs": [],
   "source": [
    "# 回调函数通常包含以下参数\n",
    "# 1. serialized(Dict): 序列化后的链结构描述\n",
    "# 2. inputs(Dict): 输入参数(键值对形式)\n",
    "# 3. **kwargs(Any): 框架保留参数, 用于未来扩展"
   ]
  },
  {
   "cell_type": "code",
   "execution_count": 28,
   "id": "abe8264d-1850-4a6c-ad56-7d055da98991",
   "metadata": {},
   "outputs": [
    {
     "name": "stdout",
     "output_type": "stream",
     "text": [
      "警告: serialized 参数为None\n",
      "启动链: 未命名\n",
      "输入参数: 3\n",
      "\u001b[32;1m\u001b[1;3m[chain/start]\u001b[0m \u001b[1m[chain:RunnableLambda] Entering Chain run with input:\n",
      "\u001b[0m{\n",
      "  \"input\": 3\n",
      "}\n",
      "输出结果: 6\n",
      "\u001b[36;1m\u001b[1;3m[chain/end]\u001b[0m \u001b[1m[chain:RunnableLambda] [1ms] Exiting Chain run with output:\n",
      "\u001b[0m{\n",
      "  \"output\": 6\n",
      "}\n"
     ]
    },
    {
     "data": {
      "text/plain": [
       "6"
      ]
     },
     "execution_count": 28,
     "metadata": {},
     "output_type": "execute_result"
    }
   ],
   "source": [
    "# 例1: 日志记录与调试\n",
    "\n",
    "from langchain_core.runnables import RunnableLambda\n",
    "from langchain_core.callbacks import StdOutCallbackHandler\n",
    "\n",
    "class DebugCallback(StdOutCallbackHandler):\n",
    "    def __init__(self):\n",
    "        super().__init__()\n",
    "        \n",
    "    def on_chain_start(self, serialized, inputs, **kwargs):\n",
    "        if serialized is None:\n",
    "            print(\"警告: serialized 参数为None\")\n",
    "            print(f\"启动链: 未命名\")\n",
    "        else:\n",
    "            print(f\"启动链: {serialized}\")\n",
    "            \n",
    "        print(f\"输入参数: {inputs}\")\n",
    "\n",
    "    def on_chain_end(self, outputs, **kwargs):\n",
    "        print(f\"输出结果: {outputs}\")\n",
    "\n",
    "# 方法1\n",
    "# 注册回调到链\n",
    "# chain = RunnableLambda(lambda x: x*2).with_config(\n",
    "#     name=\"DoubleNumberChain\",  # 命名链以便回调识别\n",
    "#     callbacks=[DebugCallback()]  # 绑定回调列表\n",
    "# )\n",
    "# 执行调用\n",
    "# chain.invoke(3)    \n",
    "\n",
    "# 方法2\n",
    "chain = RunnableLambda(lambda x: x*2)\n",
    "chain.invoke(\n",
    "    input=3,\n",
    "    config={\"callbacks\": [DebugCallback()]}\n",
    ")"
   ]
  },
  {
   "cell_type": "code",
   "execution_count": 11,
   "id": "219f8d00-36c8-4531-b6ce-2458ee2946d4",
   "metadata": {},
   "outputs": [],
   "source": [
    "# 调试与追踪\n",
    "# 设置全局debug flag以启用chains的调试输出"
   ]
  },
  {
   "cell_type": "code",
   "execution_count": 12,
   "id": "32d49d77-83b9-4354-bfaf-98a879417d99",
   "metadata": {},
   "outputs": [],
   "source": [
    "# 例:\n",
    "\n",
    "from langchain_core.globals import set_debug\n",
    "set_debug(True)"
   ]
  },
  {
   "cell_type": "code",
   "execution_count": 13,
   "id": "8c38ec60-dc84-4252-b95c-9e0053af3900",
   "metadata": {},
   "outputs": [],
   "source": [
    "# 也可以给chain传递现有的或定制的回调"
   ]
  },
  {
   "cell_type": "code",
   "execution_count": 14,
   "id": "02265315-5231-4a82-a5a0-f073fff37d47",
   "metadata": {
    "collapsed": true,
    "jupyter": {
     "outputs_hidden": true
    }
   },
   "outputs": [
    {
     "ename": "NameError",
     "evalue": "name 'chain' is not defined",
     "output_type": "error",
     "traceback": [
      "\u001b[31m---------------------------------------------------------------------------\u001b[39m",
      "\u001b[31mNameError\u001b[39m                                 Traceback (most recent call last)",
      "\u001b[36mCell\u001b[39m\u001b[36m \u001b[39m\u001b[32mIn[14]\u001b[39m\u001b[32m, line 5\u001b[39m\n\u001b[32m      1\u001b[39m \u001b[38;5;66;03m# 例:\u001b[39;00m\n\u001b[32m      3\u001b[39m \u001b[38;5;28;01mfrom\u001b[39;00m\u001b[38;5;250m \u001b[39m\u001b[34;01mlangchain_core\u001b[39;00m\u001b[34;01m.\u001b[39;00m\u001b[34;01mtracers\u001b[39;00m\u001b[38;5;250m \u001b[39m\u001b[38;5;28;01mimport\u001b[39;00m ConsoleCallbackHandler\n\u001b[32m----> \u001b[39m\u001b[32m5\u001b[39m \u001b[43mchain\u001b[49m.invoke(\n\u001b[32m      6\u001b[39m     ...,\n\u001b[32m      7\u001b[39m     config={\u001b[33m\"\u001b[39m\u001b[33mcallbacks\u001b[39m\u001b[33m\"\u001b[39m: [ConsoleCallbackHandler()]}\n\u001b[32m      8\u001b[39m )\n",
      "\u001b[31mNameError\u001b[39m: name 'chain' is not defined"
     ]
    }
   ],
   "source": [
    "# 例:\n",
    "\n",
    "from langchain_core.tracers import ConsoleCallbackHandler\n",
    "\n",
    "chain.invoke(\n",
    "    ...,\n",
    "    config={\"callbacks\": [ConsoleCallbackHandler()]}\n",
    ")"
   ]
  },
  {
   "cell_type": "code",
   "execution_count": null,
   "id": "fa59d893-d903-46b8-b971-a778917fedcb",
   "metadata": {},
   "outputs": [],
   "source": []
  }
 ],
 "metadata": {
  "kernelspec": {
   "display_name": "Python 3 (ipykernel)",
   "language": "python",
   "name": "python3"
  },
  "language_info": {
   "codemirror_mode": {
    "name": "ipython",
    "version": 3
   },
   "file_extension": ".py",
   "mimetype": "text/x-python",
   "name": "python",
   "nbconvert_exporter": "python",
   "pygments_lexer": "ipython3",
   "version": "3.13.2"
  }
 },
 "nbformat": 4,
 "nbformat_minor": 5
}
