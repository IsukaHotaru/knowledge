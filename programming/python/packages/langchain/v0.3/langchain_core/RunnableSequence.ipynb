{
 "cells": [
  {
   "cell_type": "code",
   "execution_count": 1,
   "id": "d1c07478-21dd-48ff-8fe1-13069e7d69c1",
   "metadata": {},
   "outputs": [],
   "source": [
    "# RunnableSequence是Langchain中最重要的组合节点\n",
    "# 由 | 运算符连接左右的Runnable对象\n",
    "# 自动支持sync, async和batch"
   ]
  },
  {
   "cell_type": "code",
   "execution_count": 3,
   "id": "ea9aba66-67a9-4438-b625-870769b1b54e",
   "metadata": {},
   "outputs": [
    {
     "data": {
      "text/plain": [
       "[4, 6, 8]"
      ]
     },
     "execution_count": 3,
     "metadata": {},
     "output_type": "execute_result"
    }
   ],
   "source": [
    "# 例1:\n",
    "\n",
    "from langchain_core.runnables import RunnableLambda\n",
    "\n",
    "def add_one(x: int) -> int:\n",
    "    return x + 1\n",
    "\n",
    "def mul_two(x: int) -> int:\n",
    "    return x * 2\n",
    "\n",
    "runnable_1 = RunnableLambda(add_one)\n",
    "runnable_2 = RunnableLambda(mul_two)\n",
    "sequence = runnable_1 | runnable_2\n",
    "# 等价地\n",
    "# sequence = RunnableSequence(first=runnable_1, last=runnable_2)\n",
    "sequence.invoke(1)\n",
    "await sequence.ainvoke(1)\n",
    "\n",
    "sequence.batch([1, 2, 3])\n",
    "await sequence.abatch([1, 2, 3])"
   ]
  },
  {
   "cell_type": "code",
   "execution_count": 8,
   "id": "9476bd18-d13c-464e-97b6-d0e7f00ced61",
   "metadata": {
    "collapsed": true,
    "jupyter": {
     "outputs_hidden": true
    }
   },
   "outputs": [
    {
     "name": "stdout",
     "output_type": "stream",
     "text": [
      "{'flowers': [{'cat_language': 'Purr-paw',\n",
      "              'chinese_name': '玫瑰',\n",
      "              'common_name': 'Rose',\n",
      "              'japanese_name': 'バラ'},\n",
      "             {'cat_language': 'Meow-bloom',\n",
      "              'chinese_name': '郁金香',\n",
      "              'common_name': 'Tulip',\n",
      "              'japanese_name': 'チューリップ'},\n",
      "             {'cat_language': 'Sun-paw',\n",
      "              'chinese_name': '向日葵',\n",
      "              'common_name': 'Sunflower',\n",
      "              'japanese_name': 'ヒマワリ'},\n",
      "             {'cat_language': 'Daisy-purr',\n",
      "              'chinese_name': '雏菊',\n",
      "              'common_name': 'Daisy',\n",
      "              'japanese_name': 'デイジー'},\n",
      "             {'cat_language': 'Paw-ly',\n",
      "              'chinese_name': '百合',\n",
      "              'common_name': 'Lily',\n",
      "              'japanese_name': 'ユリ'},\n",
      "             {'cat_language': 'Meow-chid',\n",
      "              'chinese_name': '兰花',\n",
      "              'common_name': 'Orchid',\n",
      "              'japanese_name': 'ラン'}]}\n"
     ]
    }
   ],
   "source": [
    "# 例2: \n",
    "\n",
    "import dotenv\n",
    "import os\n",
    "import pprint\n",
    "\n",
    "from langchain_core.runnables import RunnableLambda, RunnableSequence\n",
    "from langchain_core.output_parsers.json import SimpleJsonOutputParser, JsonOutputParser\n",
    "from langchain_openai import ChatOpenAI\n",
    "from langchain_core.prompts import PromptTemplate\n",
    "\n",
    "dotenv.load_dotenv(override=True)\n",
    "\n",
    "prompt_template = PromptTemplate.from_template(\n",
    "    \"In JSON format, give me a list of {topic} and their \"\n",
    "    \"corresponding names in Japanese, Chinese and in a \"\n",
    "    \"Cat Language.\"\n",
    ")\n",
    "\n",
    "model = ChatOpenAI(\n",
    "    model=\"gpt-4o-mini\",\n",
    "    api_key=os.getenv(\"OPENAI_API_KEY\"),\n",
    "    base_url=os.getenv(\"OPENAI_BASE_URL\")\n",
    ")\n",
    "\n",
    "chain = prompt_template | model | JsonOutputParser()\n",
    "\n",
    "response = chain.invoke({\"topic\": \"flowers\"})\n",
    "\n",
    "pprint.pprint(response)"
   ]
  },
  {
   "cell_type": "code",
   "execution_count": null,
   "id": "cd5c6dc3-46d3-4467-b910-202c1f9ce3a4",
   "metadata": {},
   "outputs": [],
   "source": [
    "# RunnableSequence参数说明\n",
    "# steps: 包含的Runnable数量\n",
    "# name: 该Runnable的名称, 默认为None\n",
    "# first: 首个Runnable, 默认为None\n",
    "# middle: (List)中间Runnable, 默认为None\n",
    "# last: 末尾Runnable, 默认为None\n",
    "\n",
    "# 异常\n",
    "# ValueError: 当steps < 2时抛出"
   ]
  }
 ],
 "metadata": {
  "kernelspec": {
   "display_name": "Python 3 (ipykernel)",
   "language": "python",
   "name": "python3"
  },
  "language_info": {
   "codemirror_mode": {
    "name": "ipython",
    "version": 3
   },
   "file_extension": ".py",
   "mimetype": "text/x-python",
   "name": "python",
   "nbconvert_exporter": "python",
   "pygments_lexer": "ipython3",
   "version": "3.13.2"
  }
 },
 "nbformat": 4,
 "nbformat_minor": 5
}
