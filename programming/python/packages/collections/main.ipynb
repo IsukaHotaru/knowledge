{
 "cells": [
  {
   "cell_type": "code",
   "execution_count": 1,
   "id": "4b58aa65-111f-44ea-91fc-1e6c3624ceba",
   "metadata": {},
   "outputs": [],
   "source": [
    "# 本文件介绍collections库\n",
    "# 该库对通用内建容器进行了扩展#\n",
    "\n",
    "# namedtuple(): 用于创建tuple子类的工厂函数, 且子类的字段有名称,\n",
    "# 也就是可以通过名称来访问元素内容, 该子类称为命名元组\n",
    "# deque: 类似list的容器, 但append和pop在两端速度都很快\n",
    "# Chainmap: 类似dict的类, 用于创建包含多个映射的单个视图\n",
    "# Counter: 用于计数hashable对象的dict的子类\n",
    "# OrderedDict: dict的子类, 能记录item被添加的顺序\n",
    "# defaultdict: dict的子类, 通过调用用户指定的工厂函数来为键提供默认值\n",
    "# UserDict: 封装了dict对象, 简化了dict子类化\n",
    "# UserLsit: 封装了list对象, 简化了list子类化\n",
    "# UserString: 封装了string对象, 简化了string子类化"
   ]
  },
  {
   "cell_type": "code",
   "execution_count": 2,
   "id": "ee48125f-66d0-4918-811c-ab3a0ea07f02",
   "metadata": {},
   "outputs": [],
   "source": [
    "# namedtuple(): 命名元组的工厂函数\n",
    "# collections.namedtuple(typename, field_names, *, rename=False, defaults=None, module=None)\n",
    "# 返回一个名为typename的元组子类, 其中每一个元素既可以通过指定的field_name来访问,\n",
    "# 又可以通过索引指标来访问. 同时还具有__doc__和以name=value格式列出元组内容的__repr__方法以便使用\n",
    "# 通过typing.NamedTuple来添加类型注释\n",
    "\n",
    "# typename: 指定元组子类名称\n",
    "# field_names: 指定字段名称\n",
    "# 可以是列表, 如[\"x\", \"y\"], 也可以是逗号或空格分隔的字符串, 如\"x, y\"或\"x y\"\n",
    "# 字段名称只能以字母开头, 以字母, 数字和下划线为组成, 且不能与python关键词相同\n",
    "# rename: 默认为False, 如果为True, 则无效字段名自动转换为位置名\n",
    "# 如[\"abc\", \"def\", \"abc\"]转换成[\"abc\", \"_1\", \"_2\"]\n",
    "# defaults: 默认为None, 类型为Iterable, 如果defaults的元素个数小于field_names的元素个数, 则defaults优先满足右边的参数\n",
    "# 如field_names=[\"x\", \"y\", \"z\"], defaults=(1, 2), 则x必须指定参数值, 而y默认为1, z默认为2\n",
    "# module: 默认None, 命名元组的__module__属性将被设置为该值\n",
    "\n",
    "# 由于命名元组不需要字典来保存每个实例的不同属性, 所以其具有轻量化的特点, 占用内存和普通元组一样"
   ]
  },
  {
   "cell_type": "code",
   "execution_count": 5,
   "id": "ee50fb38-601d-410f-93b5-8640a17fd578",
   "metadata": {
    "collapsed": true,
    "jupyter": {
     "outputs_hidden": true
    }
   },
   "outputs": [
    {
     "name": "stdout",
     "output_type": "stream",
     "text": [
      "33\n",
      "x=11, y=22\n",
      "33\n",
      "Point(x=11, y=22)\n"
     ]
    }
   ],
   "source": [
    "# 例:\n",
    "from collections import namedtuple\n",
    "Point = namedtuple(\"Point\", [\"x\", \"y\"])\n",
    "p = Point(11, y=22)  # 使用位置或关键字参数实例化\n",
    "print(p[0] + p[1])\n",
    "\n",
    "x, y = p  # 像普通元素一样解包\n",
    "print(\"x={}, y={}\".format(x, y))\n",
    "\n",
    "print(p.x+p.y)  # 字段也可按照名称访问\n",
    "\n",
    "print(p)  # 名称=值, 易读的__repr__"
   ]
  },
  {
   "cell_type": "code",
   "execution_count": 6,
   "id": "8b74f886-8332-4183-b9e4-0478907c4431",
   "metadata": {},
   "outputs": [
    {
     "name": "stdout",
     "output_type": "stream",
     "text": [
      "Point(x=11, y=22)\n"
     ]
    }
   ],
   "source": [
    "# 命名元组的属性与方法\n",
    "# classmethod _make(iterable):\n",
    "# 从存在的可迭代对象创建一个命名元组实例\n",
    "\n",
    "# 例:\n",
    "\n",
    "t = [11, 22]\n",
    "p_t = Point._make(t)\n",
    "print(p_t)"
   ]
  },
  {
   "cell_type": "code",
   "execution_count": 7,
   "id": "786e2f86-5676-4f8d-81a7-10174fe3e13e",
   "metadata": {},
   "outputs": [
    {
     "name": "stdout",
     "output_type": "stream",
     "text": [
      "{'x': 11, 'y': 22}\n"
     ]
    }
   ],
   "source": [
    "# _asdict():\n",
    "# 返回一个field_name: value的dict\n",
    "\n",
    "# 例:\n",
    "\n",
    "p = Point(x=11, y=22)\n",
    "print(p._asdict())"
   ]
  },
  {
   "cell_type": "code",
   "execution_count": 8,
   "id": "281e9e7a-dcb3-45e5-aa54-3f9edbc17939",
   "metadata": {},
   "outputs": [
    {
     "name": "stdout",
     "output_type": "stream",
     "text": [
      "False\n"
     ]
    }
   ],
   "source": [
    "# _replace(**kwargs):\n",
    "# 返回一个新的命名元组实例, 其中指定字段被替换为新的值\n",
    "# 对于无效关键字参数引发TypeError(python version ≥ 3.13)\n",
    "\n",
    "# 例:\n",
    "p = Point(x=11, y=22)\n",
    "p_r = p._replace(x=33)\n",
    "\n",
    "print(id(p) == id(p_r))  # p和p_r是两个不同的实例"
   ]
  },
  {
   "cell_type": "code",
   "execution_count": 9,
   "id": "59658a11-7a7a-4897-bf42-ea37c29c8549",
   "metadata": {},
   "outputs": [
    {
     "name": "stdout",
     "output_type": "stream",
     "text": [
      "('x', 'y')\n",
      "Pixel(x=11, y=22, red=128, green=255, blue=0)\n"
     ]
    }
   ],
   "source": [
    "# _fields: 记录所有字段名的字符串元组\n",
    "\n",
    "# 例:\n",
    "\n",
    "print(p._fields)\n",
    "Color = namedtuple(\"Color\", \"red green blue\")\n",
    "Pixel = namedtuple(\"Pixel\", Point._fields + Color._fields)\n",
    "print(Pixel(11, 22, 128, 255, 0))"
   ]
  },
  {
   "cell_type": "code",
   "execution_count": 11,
   "id": "e14ff874-8c42-43ec-938a-8d0057cf3957",
   "metadata": {},
   "outputs": [
    {
     "name": "stdout",
     "output_type": "stream",
     "text": [
      "{'balance': 0}\n"
     ]
    }
   ],
   "source": [
    "# _field_defaults: 记录所有具有默认值的字段的字典\n",
    "\n",
    "# 例:\n",
    "\n",
    "Account = namedtuple(\"Account\", [\"type\", \"balance\"], defaults=[0])\n",
    "print(Account._field_defaults)"
   ]
  },
  {
   "cell_type": "code",
   "execution_count": 13,
   "id": "09fffa5d-49a8-4b56-baf0-16e2a4152aa7",
   "metadata": {},
   "outputs": [
    {
     "name": "stdout",
     "output_type": "stream",
     "text": [
      "('x', 'y', 'z')\n"
     ]
    }
   ],
   "source": [
    "# 如果要在命名元组中添加新字段, 则应当通过_fields创建新的命名元组\n",
    "# 子类化命名元组对于添加新字段是无效的\n",
    "\n",
    "# 例:\n",
    "Point3D = namedtuple(\"Point3D\", Point._fields + (\"z\",))\n",
    "print(Point3D._fields)"
   ]
  },
  {
   "cell_type": "code",
   "execution_count": 1,
   "id": "793d37ea-e2fd-44bf-8bc6-906d0d9ada9d",
   "metadata": {},
   "outputs": [],
   "source": [
    "# deque: 双向队列, 支持快速从任意一端追加和推出对象\n",
    "# class collections.deque([iterable[, maxlen]])\n",
    "# 通过iterable实例初始化deque, 若iterable=None, 则初始化为空deque\n",
    "# append和pop操作均能以接近O(1)的时间复杂度完成\n",
    "# 如果指定了maxlen, 则deque在增加超过容量的item的同时会舍弃另一端相应超出数量的item\n",
    "\n",
    "# 方法和属性\n",
    "# append(x): 在deque右侧增加x\n",
    "# appendleft(x): 在deque左侧增加x\n",
    "# clear(): 移除deque中所有元素\n",
    "# copy(): 创建deque的浅拷贝\n",
    "# count(x): 计数deque中等于x的元素个数\n",
    "# extend(iterable): 从iterable对象中向右延伸deque\n",
    "# extendleft(iterable): 从iterable对象中向左延伸deque, 其中左侧延伸结果是原iterable元素的逆序\n",
    "# index(x[, start[, stop]]): 在start≤index<stop范围内查找等于x的第一个元素并返回其index, 如果没找到则抛出ValueError\n",
    "# insert(i, x): 在i位置插入x, 如果导致超出maxlen, 则抛出IndexError\n",
    "# pop(): 移除最右侧元素, 如果deque为空则抛出IndexError\n",
    "# popleft(): 移除最左侧元素: 如果deque为空则抛出IndexError\n",
    "# remove(value): 移除第一个值为value的元素, 如果没有则抛出ValueError\n",
    "# reverse(): 颠倒deque中所有元素次序\n",
    "# rotate(n=1): 将最右侧n个元素依次弹出并插入到最左侧, 如果n为负数则为将最左侧n个元素进行类似操作\n",
    "# maxlen: 规定deque的最大长度\n",
    "\n",
    "# deque还支持迭代, 持久化, len(d), reversed(d), copy.copy(d), copy.deepcopy(d), in运算等常见容器操作\n",
    "# 索引访问在末端时间复杂度为O(1), 但在中间时间复杂度为O(n), 如果追求快速访问, 建议使用list\n",
    "# 自python≥3.5, deque支持__add__(), __mul__()和__imul__()函数"
   ]
  },
  {
   "cell_type": "code",
   "execution_count": 2,
   "id": "7a307182-8eae-4332-8ee0-4face38fff0a",
   "metadata": {},
   "outputs": [
    {
     "name": "stdout",
     "output_type": "stream",
     "text": [
      "G\n",
      "H\n",
      "I\n"
     ]
    }
   ],
   "source": [
    "# 例:\n",
    "\n",
    "from collections import deque\n",
    "d = deque(\"ghi\")\n",
    "for elem in d:\n",
    "    print(elem.upper())"
   ]
  },
  {
   "cell_type": "code",
   "execution_count": 4,
   "id": "9d055690-f9cb-452b-9ce3-e10c9fe4092c",
   "metadata": {},
   "outputs": [
    {
     "name": "stdout",
     "output_type": "stream",
     "text": [
      "deque(['f', 'f', 'g', 'h', 'i', 'j', 'j'])\n"
     ]
    }
   ],
   "source": [
    "d.append(\"j\")\n",
    "d.appendleft(\"f\")\n",
    "print(d)"
   ]
  },
  {
   "cell_type": "code",
   "execution_count": 8,
   "id": "88d6bd6a-fa57-43cc-9a4c-7af8c46e0164",
   "metadata": {},
   "outputs": [
    {
     "data": {
      "text/plain": [
       "'j'"
      ]
     },
     "execution_count": 8,
     "metadata": {},
     "output_type": "execute_result"
    }
   ],
   "source": [
    "d.pop()"
   ]
  },
  {
   "cell_type": "code",
   "execution_count": 9,
   "id": "aa612d32-de50-4c66-b1e9-6b90550b3b95",
   "metadata": {},
   "outputs": [
    {
     "data": {
      "text/plain": [
       "'f'"
      ]
     },
     "execution_count": 9,
     "metadata": {},
     "output_type": "execute_result"
    }
   ],
   "source": [
    "d.popleft()"
   ]
  },
  {
   "cell_type": "code",
   "execution_count": 10,
   "id": "adef4d03-c06e-4dea-b032-6f10e773abba",
   "metadata": {},
   "outputs": [
    {
     "data": {
      "text/plain": [
       "['g', 'h', 'i']"
      ]
     },
     "execution_count": 10,
     "metadata": {},
     "output_type": "execute_result"
    }
   ],
   "source": [
    "list(d)"
   ]
  },
  {
   "cell_type": "code",
   "execution_count": 11,
   "id": "59703b26-84fd-40fd-afd9-f452baf5e104",
   "metadata": {},
   "outputs": [
    {
     "name": "stdout",
     "output_type": "stream",
     "text": [
      "g, i\n"
     ]
    }
   ],
   "source": [
    "print(\"{}, {}\".format(d[0], d[-1]))"
   ]
  },
  {
   "cell_type": "code",
   "execution_count": 12,
   "id": "d185a29d-3950-4867-a027-5c277ef7ef32",
   "metadata": {},
   "outputs": [
    {
     "name": "stdout",
     "output_type": "stream",
     "text": [
      "['i', 'h', 'g']\n"
     ]
    }
   ],
   "source": [
    "print(list(reversed(d)))"
   ]
  },
  {
   "cell_type": "code",
   "execution_count": 19,
   "id": "12ee4ee7-c18b-4f70-b88e-ecf67748b512",
   "metadata": {},
   "outputs": [
    {
     "name": "stdout",
     "output_type": "stream",
     "text": [
      "deque(['g', 'h', 'i'])\n",
      "deque(['h', 'i', 'g'])\n"
     ]
    }
   ],
   "source": [
    "print(d)\n",
    "d.rotate(2)\n",
    "print(d)"
   ]
  },
  {
   "cell_type": "code",
   "execution_count": null,
   "id": "32fbb677-6561-4d94-8f02-edf599ca5077",
   "metadata": {},
   "outputs": [],
   "source": []
  }
 ],
 "metadata": {
  "kernelspec": {
   "display_name": "Python 3 (ipykernel)",
   "language": "python",
   "name": "python3"
  },
  "language_info": {
   "codemirror_mode": {
    "name": "ipython",
    "version": 3
   },
   "file_extension": ".py",
   "mimetype": "text/x-python",
   "name": "python",
   "nbconvert_exporter": "python",
   "pygments_lexer": "ipython3",
   "version": "3.13.2"
  }
 },
 "nbformat": 4,
 "nbformat_minor": 5
}
