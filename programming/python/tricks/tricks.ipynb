{
 "cells": [
  {
   "cell_type": "code",
   "execution_count": 1,
   "id": "2d253d0a-aa82-4ce9-8bc9-4d5f04e3b4e3",
   "metadata": {},
   "outputs": [],
   "source": [
    "# 本文档记录python中一些实用小技巧"
   ]
  },
  {
   "cell_type": "code",
   "execution_count": 3,
   "id": "0aa8b207-f060-47f6-bd8c-17d351cf3eb6",
   "metadata": {},
   "outputs": [
    {
     "name": "stdout",
     "output_type": "stream",
     "text": [
      "This_Is_A__Random__String\n"
     ]
    }
   ],
   "source": [
    "# 1. 快速替换字符串中的特殊符号为下划线\n",
    "\n",
    "import re  # re是python中处理正则表达式的库\n",
    "import string\n",
    "\n",
    "raw_string = r\"This/Is@A/$Random&'String\"\n",
    "\n",
    "# 主要用到的方法\n",
    "# re.sub: 将指定字符串中满足给定正则表达式的子串全部替换为给定新字符串\n",
    "# parameter1: 正则表达式\n",
    "# parameter2: 新字符串\n",
    "# parameter3: 指定原字符串\n",
    "# string.punctuation: 表示所有特殊符号\n",
    "processed_string = re.sub(f'[{string.punctuation}]', \"_\", raw_string)\n",
    "\n",
    "print(processed_string)"
   ]
  },
  {
   "cell_type": "code",
   "execution_count": 1,
   "id": "03d5ca32-9bfa-40eb-9e07-b3e592fd3592",
   "metadata": {},
   "outputs": [],
   "source": [
    "# 2. pytorch设置device\n",
    "\n",
    "import torch\n",
    "\n",
    "# 通过if...else来判断是否存在cuda, 否则使用cpu\n",
    "device = \"cuda\" if torch.cuda.is_available() else \"cpu\""
   ]
  },
  {
   "cell_type": "code",
   "execution_count": null,
   "id": "8d301bbd-1617-4cdf-ad9a-646582ac1b81",
   "metadata": {},
   "outputs": [],
   "source": []
  }
 ],
 "metadata": {
  "kernelspec": {
   "display_name": "Python 3 (ipykernel)",
   "language": "python",
   "name": "python3"
  },
  "language_info": {
   "codemirror_mode": {
    "name": "ipython",
    "version": 3
   },
   "file_extension": ".py",
   "mimetype": "text/x-python",
   "name": "python",
   "nbconvert_exporter": "python",
   "pygments_lexer": "ipython3",
   "version": "3.13.2"
  }
 },
 "nbformat": 4,
 "nbformat_minor": 5
}
